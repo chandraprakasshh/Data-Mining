{
  "nbformat": 4,
  "nbformat_minor": 0,
  "metadata": {
    "colab": {
      "name": "DataMining_Project (2).ipynb",
      "provenance": [],
      "collapsed_sections": []
    },
    "kernelspec": {
      "display_name": "Python 3",
      "language": "python",
      "name": "python3"
    },
    "language_info": {
      "codemirror_mode": {
        "name": "ipython",
        "version": 3
      },
      "file_extension": ".py",
      "mimetype": "text/x-python",
      "name": "python",
      "nbconvert_exporter": "python",
      "pygments_lexer": "ipython3",
      "version": "3.7.3"
    }
  },
  "cells": [
    {
      "cell_type": "code",
      "metadata": {
        "id": "E8QoP0XXaiDl"
      },
      "source": [
        "import pandas as pd\n",
        "import numpy as np\n",
        "import matplotlib.pyplot as plt\n",
        "import seaborn as sns\n",
        "%matplotlib inline"
      ],
      "execution_count": 3,
      "outputs": []
    },
    {
      "cell_type": "code",
      "metadata": {
        "colab": {
          "base_uri": "https://localhost:8080/"
        },
        "id": "MltGvwrOawFC",
        "outputId": "6cc9dfc5-a841-465b-fb78-53eb9a9517a4"
      },
      "source": [
        "from google.colab import drive\n",
        "drive.mount('/content/drive')"
      ],
      "execution_count": 4,
      "outputs": [
        {
          "output_type": "stream",
          "text": [
            "Drive already mounted at /content/drive; to attempt to forcibly remount, call drive.mount(\"/content/drive\", force_remount=True).\n"
          ],
          "name": "stdout"
        }
      ]
    },
    {
      "cell_type": "code",
      "metadata": {
        "id": "t3jiKRpPbBcl"
      },
      "source": [
        "raw_data=pd.read_csv(\"/content/drive/My Drive/Project_Dataset.csv\")\n",
        "raw_data.columns=raw_data.columns.str.lower()\n"
      ],
      "execution_count": 5,
      "outputs": []
    },
    {
      "cell_type": "code",
      "metadata": {
        "colab": {
          "base_uri": "https://localhost:8080/",
          "height": 324
        },
        "id": "5d2RtTLDAltS",
        "outputId": "a2770deb-42be-4182-9a5a-cc6e10587ab2"
      },
      "source": [
        "raw_data.describe()"
      ],
      "execution_count": 4,
      "outputs": [
        {
          "output_type": "execute_result",
          "data": {
            "text/html": [
              "<div>\n",
              "<style scoped>\n",
              "    .dataframe tbody tr th:only-of-type {\n",
              "        vertical-align: middle;\n",
              "    }\n",
              "\n",
              "    .dataframe tbody tr th {\n",
              "        vertical-align: top;\n",
              "    }\n",
              "\n",
              "    .dataframe thead th {\n",
              "        text-align: right;\n",
              "    }\n",
              "</style>\n",
              "<table border=\"1\" class=\"dataframe\">\n",
              "  <thead>\n",
              "    <tr style=\"text-align: right;\">\n",
              "      <th></th>\n",
              "      <th>sample_id</th>\n",
              "      <th>charge_mode_distance</th>\n",
              "      <th>vehicle_id</th>\n",
              "      <th>operation_time</th>\n",
              "      <th>operation_distance</th>\n",
              "      <th>sender</th>\n",
              "      <th>gear_level_auto_time</th>\n",
              "      <th>gear_level_man_time</th>\n",
              "      <th>total_distance</th>\n",
              "      <th>brake_time</th>\n",
              "      <th>cruise_time</th>\n",
              "      <th>drive_distance</th>\n",
              "      <th>drive_fuel</th>\n",
              "      <th>drive_time</th>\n",
              "      <th>idle_fuel</th>\n",
              "      <th>coasting_time</th>\n",
              "      <th>econ_time</th>\n",
              "      <th>idle_time</th>\n",
              "      <th>key_on_time</th>\n",
              "      <th>pedal_time</th>\n",
              "      <th>measure35</th>\n",
              "      <th>measure36</th>\n",
              "      <th>measure37</th>\n",
              "      <th>measure38</th>\n",
              "      <th>measure39</th>\n",
              "      <th>measure40</th>\n",
              "      <th>measure41</th>\n",
              "      <th>measure42</th>\n",
              "      <th>measure43</th>\n",
              "      <th>measure44</th>\n",
              "      <th>measure45</th>\n",
              "      <th>measure46</th>\n",
              "      <th>measure47</th>\n",
              "      <th>measure48</th>\n",
              "      <th>measure49</th>\n",
              "      <th>measure_g-1_time</th>\n",
              "      <th>state_of_health_battery</th>\n",
              "      <th>diesel_mode_total_fuel</th>\n",
              "      <th>measure50</th>\n",
              "      <th>measure51</th>\n",
              "      <th>measure_3</th>\n",
              "      <th>electric_mode_time</th>\n",
              "      <th>hybrid_mode_time</th>\n",
              "      <th>charge_mode_time</th>\n",
              "      <th>diesel_mode_time</th>\n",
              "      <th>total_time</th>\n",
              "      <th>electric_mode_distance</th>\n",
              "      <th>hybrid_mode_distance</th>\n",
              "      <th>diesel_mode_distance</th>\n",
              "      <th>total_distance.1</th>\n",
              "      <th>battery_version</th>\n",
              "      <th>battery_generation</th>\n",
              "      <th>fleet_id</th>\n",
              "      <th>country</th>\n",
              "      <th>vehicle_mrk_type</th>\n",
              "      <th>emission_level</th>\n",
              "      <th>current_yearly_mileage</th>\n",
              "      <th>measure_2</th>\n",
              "      <th>active_charge</th>\n",
              "      <th>mounted_battery_generation</th>\n",
              "      <th>measure_1</th>\n",
              "      <th>measure_r_d</th>\n",
              "      <th>engine_type</th>\n",
              "      <th>geo_area</th>\n",
              "      <th>city</th>\n",
              "      <th>cluster</th>\n",
              "      <th>measure_row</th>\n",
              "      <th>is_bttery_changed</th>\n",
              "      <th>is_pattern_available</th>\n",
              "      <th>is_fleet_tof_monitored</th>\n",
              "      <th>is_checked_in_vda</th>\n",
              "      <th>is_battery_supplier_type2_faulty</th>\n",
              "      <th>is_vip_fleet</th>\n",
              "      <th>battery_supplier</th>\n",
              "    </tr>\n",
              "  </thead>\n",
              "  <tbody>\n",
              "    <tr>\n",
              "      <th>count</th>\n",
              "      <td>8.619160e+05</td>\n",
              "      <td>238078.0</td>\n",
              "      <td>861916.000000</td>\n",
              "      <td>861815.000000</td>\n",
              "      <td>826697.000000</td>\n",
              "      <td>861916.000000</td>\n",
              "      <td>109882.000000</td>\n",
              "      <td>109906.00000</td>\n",
              "      <td>798851.000000</td>\n",
              "      <td>278583.000000</td>\n",
              "      <td>202469.000000</td>\n",
              "      <td>506445.000000</td>\n",
              "      <td>5.032910e+05</td>\n",
              "      <td>536956.000000</td>\n",
              "      <td>503274.000000</td>\n",
              "      <td>181441.000000</td>\n",
              "      <td>161594.000000</td>\n",
              "      <td>788100.000000</td>\n",
              "      <td>532004.000000</td>\n",
              "      <td>181251.000000</td>\n",
              "      <td>202294.000000</td>\n",
              "      <td>181269.000000</td>\n",
              "      <td>161567.000000</td>\n",
              "      <td>424111.000000</td>\n",
              "      <td>427152.000000</td>\n",
              "      <td>133646.000000</td>\n",
              "      <td>661906.000000</td>\n",
              "      <td>661922.000000</td>\n",
              "      <td>465493.000000</td>\n",
              "      <td>473534.000000</td>\n",
              "      <td>445570.000000</td>\n",
              "      <td>467305.000000</td>\n",
              "      <td>467216.000000</td>\n",
              "      <td>465362.000000</td>\n",
              "      <td>467094.000000</td>\n",
              "      <td>1.612370e+05</td>\n",
              "      <td>213860.000000</td>\n",
              "      <td>225385.000000</td>\n",
              "      <td>271163.000000</td>\n",
              "      <td>2.656360e+05</td>\n",
              "      <td>3.006480e+05</td>\n",
              "      <td>6.545090e+05</td>\n",
              "      <td>654104.000000</td>\n",
              "      <td>6.544760e+05</td>\n",
              "      <td>6.329780e+05</td>\n",
              "      <td>6.309890e+05</td>\n",
              "      <td>617031.000000</td>\n",
              "      <td>659976.000000</td>\n",
              "      <td>660637.000000</td>\n",
              "      <td>615662.000000</td>\n",
              "      <td>861916.000000</td>\n",
              "      <td>836463.000000</td>\n",
              "      <td>723818.000000</td>\n",
              "      <td>861915.000000</td>\n",
              "      <td>861916.000000</td>\n",
              "      <td>861916.000000</td>\n",
              "      <td>861916.00000</td>\n",
              "      <td>646879.000000</td>\n",
              "      <td>29631.000000</td>\n",
              "      <td>861837.000000</td>\n",
              "      <td>750973.000000</td>\n",
              "      <td>774348.000000</td>\n",
              "      <td>725789.000000</td>\n",
              "      <td>724928.000000</td>\n",
              "      <td>713059.000000</td>\n",
              "      <td>568613.000000</td>\n",
              "      <td>861916.000000</td>\n",
              "      <td>861916.000000</td>\n",
              "      <td>861916.000000</td>\n",
              "      <td>861916.000000</td>\n",
              "      <td>861916.000000</td>\n",
              "      <td>861916.000000</td>\n",
              "      <td>861916.000000</td>\n",
              "      <td>836463.000000</td>\n",
              "    </tr>\n",
              "    <tr>\n",
              "      <th>mean</th>\n",
              "      <td>1.605535e+08</td>\n",
              "      <td>0.0</td>\n",
              "      <td>914.695734</td>\n",
              "      <td>8950.790168</td>\n",
              "      <td>168684.138197</td>\n",
              "      <td>1.833639</td>\n",
              "      <td>6954.796127</td>\n",
              "      <td>0.02447</td>\n",
              "      <td>168093.327635</td>\n",
              "      <td>93.198303</td>\n",
              "      <td>2.318812</td>\n",
              "      <td>155092.674399</td>\n",
              "      <td>2.249406e+05</td>\n",
              "      <td>5370.606848</td>\n",
              "      <td>16964.597799</td>\n",
              "      <td>1178.372773</td>\n",
              "      <td>2942.647370</td>\n",
              "      <td>2422.450477</td>\n",
              "      <td>9982.880151</td>\n",
              "      <td>1569.209152</td>\n",
              "      <td>0.051096</td>\n",
              "      <td>46.385956</td>\n",
              "      <td>615.662478</td>\n",
              "      <td>0.901495</td>\n",
              "      <td>7573.258953</td>\n",
              "      <td>9.649170</td>\n",
              "      <td>169547.478055</td>\n",
              "      <td>61.481415</td>\n",
              "      <td>6781.350173</td>\n",
              "      <td>4809.420994</td>\n",
              "      <td>9.675092</td>\n",
              "      <td>2333.207444</td>\n",
              "      <td>0.275380</td>\n",
              "      <td>1476.301991</td>\n",
              "      <td>25.018116</td>\n",
              "      <td>9.916824e+02</td>\n",
              "      <td>82.849888</td>\n",
              "      <td>211.315261</td>\n",
              "      <td>2916.653578</td>\n",
              "      <td>2.188812e+03</td>\n",
              "      <td>2.200109e+06</td>\n",
              "      <td>2.559039e+03</td>\n",
              "      <td>9380.684591</td>\n",
              "      <td>3.872595e+01</td>\n",
              "      <td>1.705938e+01</td>\n",
              "      <td>1.219556e+04</td>\n",
              "      <td>6799.205918</td>\n",
              "      <td>186747.229050</td>\n",
              "      <td>68.730186</td>\n",
              "      <td>196896.154366</td>\n",
              "      <td>0.102657</td>\n",
              "      <td>1.746087</td>\n",
              "      <td>54.372580</td>\n",
              "      <td>4.280604</td>\n",
              "      <td>2.733117</td>\n",
              "      <td>1.330508</td>\n",
              "      <td>5.07670</td>\n",
              "      <td>1.085858</td>\n",
              "      <td>1.018157</td>\n",
              "      <td>1.700433</td>\n",
              "      <td>3.177602</td>\n",
              "      <td>11.733245</td>\n",
              "      <td>1.392464</td>\n",
              "      <td>1.224586</td>\n",
              "      <td>14.587535</td>\n",
              "      <td>2.591699</td>\n",
              "      <td>2017.983685</td>\n",
              "      <td>0.195157</td>\n",
              "      <td>0.047081</td>\n",
              "      <td>0.200031</td>\n",
              "      <td>0.344520</td>\n",
              "      <td>0.002894</td>\n",
              "      <td>0.042605</td>\n",
              "      <td>1.687913</td>\n",
              "    </tr>\n",
              "    <tr>\n",
              "      <th>std</th>\n",
              "      <td>1.040139e+08</td>\n",
              "      <td>0.0</td>\n",
              "      <td>907.401415</td>\n",
              "      <td>5888.556969</td>\n",
              "      <td>106473.041228</td>\n",
              "      <td>0.477447</td>\n",
              "      <td>6005.307955</td>\n",
              "      <td>2.41849</td>\n",
              "      <td>105243.858682</td>\n",
              "      <td>954.888471</td>\n",
              "      <td>677.038889</td>\n",
              "      <td>105134.455727</td>\n",
              "      <td>1.445176e+05</td>\n",
              "      <td>3587.547315</td>\n",
              "      <td>17560.201651</td>\n",
              "      <td>985.907388</td>\n",
              "      <td>2673.787443</td>\n",
              "      <td>2104.067300</td>\n",
              "      <td>6492.809635</td>\n",
              "      <td>1314.868734</td>\n",
              "      <td>13.441627</td>\n",
              "      <td>88.894753</td>\n",
              "      <td>1024.787936</td>\n",
              "      <td>23.071409</td>\n",
              "      <td>6860.789614</td>\n",
              "      <td>191.788297</td>\n",
              "      <td>106832.459806</td>\n",
              "      <td>129.885507</td>\n",
              "      <td>4535.185180</td>\n",
              "      <td>3429.560190</td>\n",
              "      <td>14.701637</td>\n",
              "      <td>1594.781897</td>\n",
              "      <td>2.416467</td>\n",
              "      <td>1208.234013</td>\n",
              "      <td>29.612928</td>\n",
              "      <td>9.885296e+03</td>\n",
              "      <td>13.765894</td>\n",
              "      <td>352.474578</td>\n",
              "      <td>2162.156577</td>\n",
              "      <td>2.528516e+03</td>\n",
              "      <td>1.608684e+06</td>\n",
              "      <td>2.062436e+03</td>\n",
              "      <td>5624.617100</td>\n",
              "      <td>1.475055e+03</td>\n",
              "      <td>1.499661e+03</td>\n",
              "      <td>7.896164e+03</td>\n",
              "      <td>6854.103732</td>\n",
              "      <td>104558.643889</td>\n",
              "      <td>148.490047</td>\n",
              "      <td>105712.507731</td>\n",
              "      <td>0.321870</td>\n",
              "      <td>1.073060</td>\n",
              "      <td>52.836068</td>\n",
              "      <td>4.214571</td>\n",
              "      <td>1.601607</td>\n",
              "      <td>0.470396</td>\n",
              "      <td>4.04253</td>\n",
              "      <td>0.280155</td>\n",
              "      <td>0.133520</td>\n",
              "      <td>0.979034</td>\n",
              "      <td>2.856095</td>\n",
              "      <td>15.647778</td>\n",
              "      <td>0.488367</td>\n",
              "      <td>0.806776</td>\n",
              "      <td>18.446428</td>\n",
              "      <td>1.489970</td>\n",
              "      <td>1375.534256</td>\n",
              "      <td>0.396322</td>\n",
              "      <td>0.211813</td>\n",
              "      <td>0.400024</td>\n",
              "      <td>0.475212</td>\n",
              "      <td>0.053714</td>\n",
              "      <td>0.201965</td>\n",
              "      <td>0.928517</td>\n",
              "    </tr>\n",
              "    <tr>\n",
              "      <th>min</th>\n",
              "      <td>1.673760e+06</td>\n",
              "      <td>0.0</td>\n",
              "      <td>1.000000</td>\n",
              "      <td>0.000000</td>\n",
              "      <td>0.000000</td>\n",
              "      <td>1.000000</td>\n",
              "      <td>0.000000</td>\n",
              "      <td>0.00000</td>\n",
              "      <td>0.000000</td>\n",
              "      <td>0.000000</td>\n",
              "      <td>0.000000</td>\n",
              "      <td>0.000000</td>\n",
              "      <td>0.000000e+00</td>\n",
              "      <td>0.000000</td>\n",
              "      <td>0.000000</td>\n",
              "      <td>0.000000</td>\n",
              "      <td>0.000000</td>\n",
              "      <td>0.000000</td>\n",
              "      <td>0.000000</td>\n",
              "      <td>0.000000</td>\n",
              "      <td>0.000000</td>\n",
              "      <td>0.000000</td>\n",
              "      <td>0.000000</td>\n",
              "      <td>0.000000</td>\n",
              "      <td>0.000000</td>\n",
              "      <td>0.000000</td>\n",
              "      <td>0.000000</td>\n",
              "      <td>0.000000</td>\n",
              "      <td>0.000000</td>\n",
              "      <td>0.000000</td>\n",
              "      <td>0.000000</td>\n",
              "      <td>0.000000</td>\n",
              "      <td>0.000000</td>\n",
              "      <td>0.000000</td>\n",
              "      <td>0.000000</td>\n",
              "      <td>0.000000e+00</td>\n",
              "      <td>0.000000</td>\n",
              "      <td>0.000000</td>\n",
              "      <td>0.000000</td>\n",
              "      <td>0.000000e+00</td>\n",
              "      <td>0.000000e+00</td>\n",
              "      <td>0.000000e+00</td>\n",
              "      <td>0.000000</td>\n",
              "      <td>-1.001667e+00</td>\n",
              "      <td>-4.833333e-02</td>\n",
              "      <td>0.000000e+00</td>\n",
              "      <td>0.000000</td>\n",
              "      <td>0.000000</td>\n",
              "      <td>-0.387000</td>\n",
              "      <td>0.000000</td>\n",
              "      <td>0.000000</td>\n",
              "      <td>1.000000</td>\n",
              "      <td>1.000000</td>\n",
              "      <td>1.000000</td>\n",
              "      <td>1.000000</td>\n",
              "      <td>1.000000</td>\n",
              "      <td>1.00000</td>\n",
              "      <td>1.000000</td>\n",
              "      <td>1.000000</td>\n",
              "      <td>1.000000</td>\n",
              "      <td>1.000000</td>\n",
              "      <td>1.000000</td>\n",
              "      <td>1.000000</td>\n",
              "      <td>1.000000</td>\n",
              "      <td>1.000000</td>\n",
              "      <td>1.000000</td>\n",
              "      <td>0.000000</td>\n",
              "      <td>0.000000</td>\n",
              "      <td>0.000000</td>\n",
              "      <td>0.000000</td>\n",
              "      <td>0.000000</td>\n",
              "      <td>0.000000</td>\n",
              "      <td>0.000000</td>\n",
              "      <td>1.000000</td>\n",
              "    </tr>\n",
              "    <tr>\n",
              "      <th>25%</th>\n",
              "      <td>6.912538e+07</td>\n",
              "      <td>0.0</td>\n",
              "      <td>252.000000</td>\n",
              "      <td>4008.835000</td>\n",
              "      <td>81337.060000</td>\n",
              "      <td>2.000000</td>\n",
              "      <td>1873.763750</td>\n",
              "      <td>0.00000</td>\n",
              "      <td>81626.920000</td>\n",
              "      <td>15.503000</td>\n",
              "      <td>0.000000</td>\n",
              "      <td>70307.430000</td>\n",
              "      <td>1.097098e+05</td>\n",
              "      <td>2584.632000</td>\n",
              "      <td>5590.238177</td>\n",
              "      <td>344.389000</td>\n",
              "      <td>779.869250</td>\n",
              "      <td>720.820750</td>\n",
              "      <td>4843.980500</td>\n",
              "      <td>492.956500</td>\n",
              "      <td>0.000000</td>\n",
              "      <td>6.969000</td>\n",
              "      <td>173.570000</td>\n",
              "      <td>0.000000</td>\n",
              "      <td>3061.171000</td>\n",
              "      <td>0.000000</td>\n",
              "      <td>81630.538250</td>\n",
              "      <td>5.938000</td>\n",
              "      <td>3129.580000</td>\n",
              "      <td>2159.703250</td>\n",
              "      <td>2.236000</td>\n",
              "      <td>1029.693000</td>\n",
              "      <td>0.000000</td>\n",
              "      <td>588.476500</td>\n",
              "      <td>6.498000</td>\n",
              "      <td>1.615510e+02</td>\n",
              "      <td>75.000000</td>\n",
              "      <td>46.613335</td>\n",
              "      <td>1895.800000</td>\n",
              "      <td>1.624609e+03</td>\n",
              "      <td>9.987885e+05</td>\n",
              "      <td>1.561799e+03</td>\n",
              "      <td>4990.595556</td>\n",
              "      <td>1.159542e+01</td>\n",
              "      <td>4.514042e+00</td>\n",
              "      <td>7.351574e+03</td>\n",
              "      <td>2345.485500</td>\n",
              "      <td>105004.893000</td>\n",
              "      <td>7.860000</td>\n",
              "      <td>114511.133500</td>\n",
              "      <td>0.000000</td>\n",
              "      <td>1.000000</td>\n",
              "      <td>15.000000</td>\n",
              "      <td>1.000000</td>\n",
              "      <td>2.000000</td>\n",
              "      <td>1.000000</td>\n",
              "      <td>3.00000</td>\n",
              "      <td>1.000000</td>\n",
              "      <td>1.000000</td>\n",
              "      <td>1.000000</td>\n",
              "      <td>1.000000</td>\n",
              "      <td>4.000000</td>\n",
              "      <td>1.000000</td>\n",
              "      <td>1.000000</td>\n",
              "      <td>3.000000</td>\n",
              "      <td>1.000000</td>\n",
              "      <td>1018.000000</td>\n",
              "      <td>0.000000</td>\n",
              "      <td>0.000000</td>\n",
              "      <td>0.000000</td>\n",
              "      <td>0.000000</td>\n",
              "      <td>0.000000</td>\n",
              "      <td>0.000000</td>\n",
              "      <td>1.000000</td>\n",
              "    </tr>\n",
              "    <tr>\n",
              "      <th>50%</th>\n",
              "      <td>1.428708e+08</td>\n",
              "      <td>0.0</td>\n",
              "      <td>584.000000</td>\n",
              "      <td>8343.850000</td>\n",
              "      <td>157989.780000</td>\n",
              "      <td>2.000000</td>\n",
              "      <td>5633.414500</td>\n",
              "      <td>0.00000</td>\n",
              "      <td>157211.620000</td>\n",
              "      <td>52.308000</td>\n",
              "      <td>0.000000</td>\n",
              "      <td>143138.200000</td>\n",
              "      <td>2.138548e+05</td>\n",
              "      <td>4927.625000</td>\n",
              "      <td>11336.013148</td>\n",
              "      <td>985.303000</td>\n",
              "      <td>2304.863500</td>\n",
              "      <td>1647.719000</td>\n",
              "      <td>9358.866500</td>\n",
              "      <td>1309.825000</td>\n",
              "      <td>0.000000</td>\n",
              "      <td>13.993000</td>\n",
              "      <td>468.230000</td>\n",
              "      <td>0.030000</td>\n",
              "      <td>6193.440500</td>\n",
              "      <td>0.000000</td>\n",
              "      <td>159414.126000</td>\n",
              "      <td>21.600000</td>\n",
              "      <td>6306.487000</td>\n",
              "      <td>4339.351000</td>\n",
              "      <td>5.131000</td>\n",
              "      <td>2127.719000</td>\n",
              "      <td>0.058000</td>\n",
              "      <td>1183.194500</td>\n",
              "      <td>15.084000</td>\n",
              "      <td>5.356490e+02</td>\n",
              "      <td>83.750000</td>\n",
              "      <td>102.085929</td>\n",
              "      <td>2409.380000</td>\n",
              "      <td>2.172645e+03</td>\n",
              "      <td>1.919658e+06</td>\n",
              "      <td>2.383418e+03</td>\n",
              "      <td>8548.220972</td>\n",
              "      <td>2.774400e+01</td>\n",
              "      <td>9.306833e+00</td>\n",
              "      <td>1.204531e+04</td>\n",
              "      <td>4386.514000</td>\n",
              "      <td>181769.258500</td>\n",
              "      <td>24.628000</td>\n",
              "      <td>194199.651000</td>\n",
              "      <td>0.000000</td>\n",
              "      <td>1.000000</td>\n",
              "      <td>40.000000</td>\n",
              "      <td>2.000000</td>\n",
              "      <td>2.000000</td>\n",
              "      <td>1.000000</td>\n",
              "      <td>4.00000</td>\n",
              "      <td>1.000000</td>\n",
              "      <td>1.000000</td>\n",
              "      <td>1.000000</td>\n",
              "      <td>2.000000</td>\n",
              "      <td>5.000000</td>\n",
              "      <td>1.000000</td>\n",
              "      <td>1.000000</td>\n",
              "      <td>5.000000</td>\n",
              "      <td>2.000000</td>\n",
              "      <td>1381.000000</td>\n",
              "      <td>0.000000</td>\n",
              "      <td>0.000000</td>\n",
              "      <td>0.000000</td>\n",
              "      <td>0.000000</td>\n",
              "      <td>0.000000</td>\n",
              "      <td>0.000000</td>\n",
              "      <td>1.000000</td>\n",
              "    </tr>\n",
              "    <tr>\n",
              "      <th>75%</th>\n",
              "      <td>2.409448e+08</td>\n",
              "      <td>0.0</td>\n",
              "      <td>1258.000000</td>\n",
              "      <td>13529.176000</td>\n",
              "      <td>249276.010000</td>\n",
              "      <td>2.000000</td>\n",
              "      <td>10676.468000</td>\n",
              "      <td>0.00000</td>\n",
              "      <td>247597.754000</td>\n",
              "      <td>125.230000</td>\n",
              "      <td>0.000000</td>\n",
              "      <td>223082.700000</td>\n",
              "      <td>3.220442e+05</td>\n",
              "      <td>7605.552750</td>\n",
              "      <td>22893.769017</td>\n",
              "      <td>1815.603000</td>\n",
              "      <td>4342.594750</td>\n",
              "      <td>3898.171000</td>\n",
              "      <td>14077.433000</td>\n",
              "      <td>2310.474000</td>\n",
              "      <td>0.000000</td>\n",
              "      <td>42.710000</td>\n",
              "      <td>910.619500</td>\n",
              "      <td>0.562000</td>\n",
              "      <td>10641.270250</td>\n",
              "      <td>1.000000</td>\n",
              "      <td>252041.508500</td>\n",
              "      <td>64.650000</td>\n",
              "      <td>9765.446000</td>\n",
              "      <td>6726.851750</td>\n",
              "      <td>10.986000</td>\n",
              "      <td>3416.858000</td>\n",
              "      <td>0.263000</td>\n",
              "      <td>2044.127750</td>\n",
              "      <td>32.533000</td>\n",
              "      <td>1.114614e+03</td>\n",
              "      <td>95.000000</td>\n",
              "      <td>227.978278</td>\n",
              "      <td>3044.360000</td>\n",
              "      <td>2.685043e+03</td>\n",
              "      <td>3.157862e+06</td>\n",
              "      <td>3.353565e+03</td>\n",
              "      <td>13940.667000</td>\n",
              "      <td>5.572014e+01</td>\n",
              "      <td>1.824222e+01</td>\n",
              "      <td>1.738936e+04</td>\n",
              "      <td>9629.709000</td>\n",
              "      <td>266621.956500</td>\n",
              "      <td>70.045000</td>\n",
              "      <td>277398.044250</td>\n",
              "      <td>0.000000</td>\n",
              "      <td>3.000000</td>\n",
              "      <td>70.000000</td>\n",
              "      <td>5.000000</td>\n",
              "      <td>3.000000</td>\n",
              "      <td>2.000000</td>\n",
              "      <td>5.00000</td>\n",
              "      <td>1.000000</td>\n",
              "      <td>1.000000</td>\n",
              "      <td>3.000000</td>\n",
              "      <td>6.000000</td>\n",
              "      <td>11.000000</td>\n",
              "      <td>2.000000</td>\n",
              "      <td>1.000000</td>\n",
              "      <td>21.000000</td>\n",
              "      <td>4.000000</td>\n",
              "      <td>3355.000000</td>\n",
              "      <td>0.000000</td>\n",
              "      <td>0.000000</td>\n",
              "      <td>0.000000</td>\n",
              "      <td>1.000000</td>\n",
              "      <td>0.000000</td>\n",
              "      <td>0.000000</td>\n",
              "      <td>3.000000</td>\n",
              "    </tr>\n",
              "    <tr>\n",
              "      <th>max</th>\n",
              "      <td>4.053350e+08</td>\n",
              "      <td>0.0</td>\n",
              "      <td>4031.000000</td>\n",
              "      <td>192780.000000</td>\n",
              "      <td>788407.110000</td>\n",
              "      <td>4.000000</td>\n",
              "      <td>32457.343000</td>\n",
              "      <td>507.93500</td>\n",
              "      <td>764774.113000</td>\n",
              "      <td>291985.930000</td>\n",
              "      <td>304424.812000</td>\n",
              "      <td>764718.163000</td>\n",
              "      <td>1.232502e+06</td>\n",
              "      <td>22146.233000</td>\n",
              "      <td>171566.915674</td>\n",
              "      <td>61877.590000</td>\n",
              "      <td>13867.866000</td>\n",
              "      <td>15559.693000</td>\n",
              "      <td>42411.382000</td>\n",
              "      <td>7322.293000</td>\n",
              "      <td>3856.097000</td>\n",
              "      <td>2209.159000</td>\n",
              "      <td>347282.627000</td>\n",
              "      <td>2622.680000</td>\n",
              "      <td>112277.085000</td>\n",
              "      <td>10031.000000</td>\n",
              "      <td>726090.460000</td>\n",
              "      <td>3685.364000</td>\n",
              "      <td>28728.241000</td>\n",
              "      <td>25635.787000</td>\n",
              "      <td>279.554000</td>\n",
              "      <td>10952.104000</td>\n",
              "      <td>244.157000</td>\n",
              "      <td>9397.937000</td>\n",
              "      <td>354.896000</td>\n",
              "      <td>1.193056e+06</td>\n",
              "      <td>100.000000</td>\n",
              "      <td>7801.282187</td>\n",
              "      <td>46076.949000</td>\n",
              "      <td>1.193056e+06</td>\n",
              "      <td>1.518202e+07</td>\n",
              "      <td>1.193056e+06</td>\n",
              "      <td>35702.002000</td>\n",
              "      <td>1.193056e+06</td>\n",
              "      <td>1.193056e+06</td>\n",
              "      <td>3.598838e+06</td>\n",
              "      <td>116664.986000</td>\n",
              "      <td>726090.460000</td>\n",
              "      <td>3685.364000</td>\n",
              "      <td>734290.120000</td>\n",
              "      <td>4.000000</td>\n",
              "      <td>6.000000</td>\n",
              "      <td>296.000000</td>\n",
              "      <td>27.000000</td>\n",
              "      <td>9.000000</td>\n",
              "      <td>2.000000</td>\n",
              "      <td>33.00000</td>\n",
              "      <td>2.000000</td>\n",
              "      <td>2.000000</td>\n",
              "      <td>6.000000</td>\n",
              "      <td>21.000000</td>\n",
              "      <td>115.000000</td>\n",
              "      <td>4.000000</td>\n",
              "      <td>8.000000</td>\n",
              "      <td>124.000000</td>\n",
              "      <td>8.000000</td>\n",
              "      <td>4433.000000</td>\n",
              "      <td>1.000000</td>\n",
              "      <td>1.000000</td>\n",
              "      <td>1.000000</td>\n",
              "      <td>1.000000</td>\n",
              "      <td>1.000000</td>\n",
              "      <td>1.000000</td>\n",
              "      <td>4.000000</td>\n",
              "    </tr>\n",
              "  </tbody>\n",
              "</table>\n",
              "</div>"
            ],
            "text/plain": [
              "          sample_id  charge_mode_distance  ...   is_vip_fleet  battery_supplier\n",
              "count  8.619160e+05              238078.0  ...  861916.000000     836463.000000\n",
              "mean   1.605535e+08                   0.0  ...       0.042605          1.687913\n",
              "std    1.040139e+08                   0.0  ...       0.201965          0.928517\n",
              "min    1.673760e+06                   0.0  ...       0.000000          1.000000\n",
              "25%    6.912538e+07                   0.0  ...       0.000000          1.000000\n",
              "50%    1.428708e+08                   0.0  ...       0.000000          1.000000\n",
              "75%    2.409448e+08                   0.0  ...       0.000000          3.000000\n",
              "max    4.053350e+08                   0.0  ...       1.000000          4.000000\n",
              "\n",
              "[8 rows x 74 columns]"
            ]
          },
          "metadata": {
            "tags": []
          },
          "execution_count": 4
        }
      ]
    },
    {
      "cell_type": "code",
      "metadata": {
        "id": "wClenN6PA9Z6"
      },
      "source": [
        "raw_data.info()"
      ],
      "execution_count": null,
      "outputs": []
    },
    {
      "cell_type": "code",
      "metadata": {
        "id": "A8gr7g4jCaPk",
        "colab": {
          "base_uri": "https://localhost:8080/"
        },
        "outputId": "00631645-71f4-4810-ba46-d2d56baa2312"
      },
      "source": [
        "raw_data.shape"
      ],
      "execution_count": 149,
      "outputs": [
        {
          "output_type": "execute_result",
          "data": {
            "text/plain": [
              "(861916, 76)"
            ]
          },
          "metadata": {
            "tags": []
          },
          "execution_count": 149
        }
      ]
    },
    {
      "cell_type": "code",
      "metadata": {
        "id": "GvJcm7z5a4HK"
      },
      "source": [
        "raw_data[\"city\"].groupby(raw_data[\"country\"]).unique()#"
      ],
      "execution_count": null,
      "outputs": []
    },
    {
      "cell_type": "code",
      "metadata": {
        "id": "rSKAx2eLbAHx"
      },
      "source": [
        "raw_data[\"country\"].groupby(raw_data[\"geo_area\"]).unique()#"
      ],
      "execution_count": null,
      "outputs": []
    },
    {
      "cell_type": "markdown",
      "metadata": {
        "id": "eaEnPrHHvJ41"
      },
      "source": [
        "### Data Prepration"
      ]
    },
    {
      "cell_type": "markdown",
      "metadata": {
        "id": "IZ00HJDpbL4_"
      },
      "source": [
        "Checking Duplicates with respect to Sample Id\n"
      ]
    },
    {
      "cell_type": "code",
      "metadata": {
        "id": "a9oaz4NXbM5Y"
      },
      "source": [
        "duplicateRowsDF = raw_data[raw_data[\"sample_id\"].duplicated()].count()\n",
        "print(\"Cheking redundancy with respect to Sample_id\")\n",
        "print(duplicateRowsDF)"
      ],
      "execution_count": null,
      "outputs": []
    },
    {
      "cell_type": "code",
      "metadata": {
        "colab": {
          "base_uri": "https://localhost:8080/"
        },
        "id": "o4EY_bfhbRyu",
        "outputId": "e4436806-23bf-4f46-98bc-7b3a98259ce9"
      },
      "source": [
        "duplocate_sample_id=raw_data.duplicated(\"sample_id\").sum()\n",
        "duplocate_sample_id"
      ],
      "execution_count": 7,
      "outputs": [
        {
          "output_type": "execute_result",
          "data": {
            "text/plain": [
              "84449"
            ]
          },
          "metadata": {
            "tags": []
          },
          "execution_count": 7
        }
      ]
    },
    {
      "cell_type": "markdown",
      "metadata": {
        "id": "YrEwSZhqbWAD"
      },
      "source": [
        "* cleaning the dataset with respect to feature is_pattern_avaliable.\n",
        "* this feature shows that data is logging or not\n",
        "* so took the values having data logged as 1 "
      ]
    },
    {
      "cell_type": "code",
      "metadata": {
        "colab": {
          "base_uri": "https://localhost:8080/"
        },
        "id": "8yrs9aL2bTm0",
        "outputId": "47656e0e-f671-465e-d36d-7a84cf7df9b8"
      },
      "source": [
        "cleansed_data_on_pattern=raw_data[(raw_data[\"is_pattern_available\"]==1) ]\n",
        "cleansed_data_on_pattern.shape"
      ],
      "execution_count": 8,
      "outputs": [
        {
          "output_type": "execute_result",
          "data": {
            "text/plain": [
              "(40580, 76)"
            ]
          },
          "metadata": {
            "tags": []
          },
          "execution_count": 8
        }
      ]
    },
    {
      "cell_type": "markdown",
      "metadata": {
        "id": "BZJKPpv2bfrj"
      },
      "source": [
        " Finding the duplicates after above steps"
      ]
    },
    {
      "cell_type": "code",
      "metadata": {
        "colab": {
          "base_uri": "https://localhost:8080/"
        },
        "id": "DqVL4IJJbeNL",
        "outputId": "c575340a-248a-4b09-ab21-0ca4b18247a5"
      },
      "source": [
        "duplicate_in_cleansed_data_pattern=cleansed_data_on_pattern.duplicated(\"sample_id\").sum()\n",
        "duplicate_in_cleansed_data_pattern"
      ],
      "execution_count": 9,
      "outputs": [
        {
          "output_type": "execute_result",
          "data": {
            "text/plain": [
              "106"
            ]
          },
          "metadata": {
            "tags": []
          },
          "execution_count": 9
        }
      ]
    },
    {
      "cell_type": "markdown",
      "metadata": {
        "id": "umgsiqUeboDN"
      },
      "source": [
        " Removed duplicates wrt two features battery version and Battery Changed\n"
      ]
    },
    {
      "cell_type": "code",
      "metadata": {
        "colab": {
          "base_uri": "https://localhost:8080/"
        },
        "id": "qln-d8s2bo6L",
        "outputId": "68e2898b-9c84-412b-e1a0-8b4a5d7ad8dd"
      },
      "source": [
        "cleansed_data=cleansed_data_on_pattern[((cleansed_data_on_pattern[\"battery_version\"]==0)\n",
        " & (cleansed_data_on_pattern[\"is_bttery_changed\"]==0))\n",
        " | ((cleansed_data_on_pattern[\"battery_version\"]==1) & (cleansed_data_on_pattern[\"is_bttery_changed\"]==1))]\n",
        "\n",
        "cleansed_data.shape"
      ],
      "execution_count": 10,
      "outputs": [
        {
          "output_type": "execute_result",
          "data": {
            "text/plain": [
              "(40451, 76)"
            ]
          },
          "metadata": {
            "tags": []
          },
          "execution_count": 10
        }
      ]
    },
    {
      "cell_type": "markdown",
      "metadata": {
        "id": "NAQmmyVlb5FT"
      },
      "source": [
        "Stastical Summary"
      ]
    },
    {
      "cell_type": "code",
      "metadata": {
        "colab": {
          "base_uri": "https://localhost:8080/"
        },
        "id": "_yHcprP_b8Tj",
        "outputId": "5d63633d-3e02-4428-a7a8-6a4fac9ddd97"
      },
      "source": [
        "cleansed_data.shape"
      ],
      "execution_count": 154,
      "outputs": [
        {
          "output_type": "execute_result",
          "data": {
            "text/plain": [
              "(40451, 76)"
            ]
          },
          "metadata": {
            "tags": []
          },
          "execution_count": 154
        }
      ]
    },
    {
      "cell_type": "code",
      "metadata": {
        "id": "iHOwRkDwbyzN"
      },
      "source": [
        "cleansed_data.info()"
      ],
      "execution_count": null,
      "outputs": []
    },
    {
      "cell_type": "code",
      "metadata": {
        "id": "DtbF9oj_cBhM"
      },
      "source": [
        "cleansed_data.describe()"
      ],
      "execution_count": null,
      "outputs": []
    },
    {
      "cell_type": "markdown",
      "metadata": {
        "id": "rysdU2orcHpY"
      },
      "source": [
        "Missing Data Analysis"
      ]
    },
    {
      "cell_type": "code",
      "metadata": {
        "colab": {
          "base_uri": "https://localhost:8080/",
          "height": 672
        },
        "id": "j56YKL2WcDyw",
        "outputId": "16d8e5cf-c27d-48f5-a47a-039f513761a8"
      },
      "source": [
        "\n",
        "plt.figure(figsize=(25,8))\n",
        "null_in = cleansed_data.isnull().sum()\n",
        "null_in = null_in[null_in > 0]\n",
        "null_in.sort_values(inplace=True)\n",
        "null_in.plot.bar()\n",
        "plt.xticks(rotation=90)"
      ],
      "execution_count": 14,
      "outputs": [
        {
          "output_type": "execute_result",
          "data": {
            "text/plain": [
              "(array([ 0,  1,  2,  3,  4,  5,  6,  7,  8,  9, 10, 11, 12, 13, 14, 15, 16,\n",
              "        17, 18, 19, 20, 21, 22, 23, 24, 25, 26, 27, 28, 29, 30, 31, 32, 33,\n",
              "        34, 35, 36, 37, 38, 39, 40, 41, 42, 43, 44, 45, 46, 47, 48, 49, 50,\n",
              "        51, 52, 53, 54, 55, 56, 57]),\n",
              " <a list of 58 Text major ticklabel objects>)"
            ]
          },
          "metadata": {
            "tags": []
          },
          "execution_count": 14
        },
        {
          "output_type": "display_data",
          "data": {
            "image/png": "[encoded data removed]",
            "text/plain": [
              "<Figure size 1800x576 with 1 Axes>"
            ]
          },
          "metadata": {
            "tags": [],
            "needs_background": "light"
          }
        }
      ]
    },
    {
      "cell_type": "code",
      "metadata": {
        "id": "oQD-1fd8cqqJ"
      },
      "source": [
        "\n",
        "total = cleansed_data.isnull().sum().sort_values(ascending=False)\n",
        "percent = (cleansed_data.isnull().sum()/cleansed_data.isnull().count()).sort_values(ascending=False)\n",
        "missing_data = pd.concat([total, percent], axis=1, keys=['Total', 'Percent'])\n",
        "missing_data.head(60)"
      ],
      "execution_count": null,
      "outputs": []
    },
    {
      "cell_type": "markdown",
      "metadata": {
        "id": "1S1zTNuqyiUl"
      },
      "source": [
        "Missing Data Handling"
      ]
    },
    {
      "cell_type": "markdown",
      "metadata": {
        "id": "aC4lr6xgglk0"
      },
      "source": [
        "Here, we are doing data imputation. If the number of missing values is more than 16112 around 40%, we drop the column from the analysis."
      ]
    },
    {
      "cell_type": "code",
      "metadata": {
        "id": "HdfkvMePcreD"
      },
      "source": [
        "data_len = cleansed_data.shape[0]\n",
        "\n",
        "\n",
        "for col in cleansed_data.columns.values:\n",
        "    missing_values = cleansed_data[col].isnull().sum()\n",
        "\n",
        "   \n",
        "    if missing_values > 16112:\n",
        "        cleansed_data = cleansed_data.drop(col, axis = 1)\n",
        "    "
      ],
      "execution_count": 11,
      "outputs": []
    },
    {
      "cell_type": "code",
      "metadata": {
        "colab": {
          "base_uri": "https://localhost:8080/"
        },
        "id": "UBuqwPHXg6W2",
        "outputId": "d34264e1-835c-403a-91f5-c40494cba3aa"
      },
      "source": [
        "cleansed_data.shape"
      ],
      "execution_count": 156,
      "outputs": [
        {
          "output_type": "execute_result",
          "data": {
            "text/plain": [
              "(40451, 42)"
            ]
          },
          "metadata": {
            "tags": []
          },
          "execution_count": 156
        }
      ]
    },
    {
      "cell_type": "code",
      "metadata": {
        "id": "N6oywzUgjvpU"
      },
      "source": [
        "cleansed_data.tail()"
      ],
      "execution_count": null,
      "outputs": []
    },
    {
      "cell_type": "markdown",
      "metadata": {
        "id": "Qo84YOyXg5w3"
      },
      "source": [
        "Split dataframe into numeric and categorical"
      ]
    },
    {
      "cell_type": "code",
      "metadata": {
        "id": "saNqMAOGjnhe"
      },
      "source": [
        "numeric_features=cleansed_data.loc[:,[\"electric_mode_distance\",\"hybrid_mode_distance\",\"diesel_mode_distance\",\"total_distance.1\",\"operation_time\",\"operation_distance\",\"total_distance\",\"idle_time\",\"measure41\",\"measure42\",\"electric_mode_time\",\"hybrid_mode_time\",\"charge_mode_time\",\"diesel_mode_time\",\"total_time\"]]"
      ],
      "execution_count": 12,
      "outputs": []
    },
    {
      "cell_type": "code",
      "metadata": {
        "colab": {
          "base_uri": "https://localhost:8080/"
        },
        "id": "J9s2oC5pxaew",
        "outputId": "b0a30dd1-144e-4b3c-bc7c-af20ff6f9b3e"
      },
      "source": [
        "numeric_features.shape"
      ],
      "execution_count": 158,
      "outputs": [
        {
          "output_type": "execute_result",
          "data": {
            "text/plain": [
              "(40451, 15)"
            ]
          },
          "metadata": {
            "tags": []
          },
          "execution_count": 158
        }
      ]
    },
    {
      "cell_type": "code",
      "metadata": {
        "id": "9-CjXr_rjqYP"
      },
      "source": [
        "catagorical_features=cleansed_data.loc[:,[\"vehicle_id\",\"sender\",\"battery_version\", 'battery_generation',\"country\",\"emission_level\",\"mounted_battery_generation\",\"engine_type\",\"geo_area\",'city', 'is_bttery_changed',\"battery_supplier\",\"is_vip_fleet\",\"is_battery_supplier_type2_faulty\",\"is_checked_in_vda\",\"is_fleet_tof_monitored\",\"is_pattern_available\",\"measure_row\",\"measure_r_d\",\"measure_1\",\"measure_2\",\"current_yearly_mileage\",\"vehicle_mrk_type\",\"fleet_id\"]]"
      ],
      "execution_count": 13,
      "outputs": []
    },
    {
      "cell_type": "code",
      "metadata": {
        "colab": {
          "base_uri": "https://localhost:8080/"
        },
        "id": "2iZ52a9ixdYA",
        "outputId": "a0cfae97-f92b-40af-e7f7-ba1fe7d2c8b6"
      },
      "source": [
        "catagorical_features.shape"
      ],
      "execution_count": 160,
      "outputs": [
        {
          "output_type": "execute_result",
          "data": {
            "text/plain": [
              "(40451, 24)"
            ]
          },
          "metadata": {
            "tags": []
          },
          "execution_count": 160
        }
      ]
    },
    {
      "cell_type": "markdown",
      "metadata": {
        "id": "ixwIEPJD5jzv"
      },
      "source": [
        "Outlier checking"
      ]
    },
    {
      "cell_type": "code",
      "metadata": {
        "id": "AV0Tb05yu0Ev"
      },
      "source": [
        "plt.figure(figsize=(30, 10))\n",
        "sns.boxplot(data=numeric_features)\n",
        "plt.title(\"Numerical features outlier\");"
      ],
      "execution_count": null,
      "outputs": []
    },
    {
      "cell_type": "code",
      "metadata": {
        "id": "s1Yy3Zr2x8Ky"
      },
      "source": [
        "timefeatures=numeric_features.loc[:,[\"electric_mode_time\",\"hybrid_mode_time\",\"charge_mode_time\",\"diesel_mode_time\",\"idle_time\",\"operation_time\",\"total_time\"]]"
      ],
      "execution_count": 24,
      "outputs": []
    },
    {
      "cell_type": "code",
      "metadata": {
        "id": "yvMvRfh4wrnH"
      },
      "source": [
        "plt.figure(figsize=(20, 5))\n",
        "sns.boxplot(data=timefeatures)\n",
        "plt.title(\"Time features outlier\");"
      ],
      "execution_count": null,
      "outputs": []
    },
    {
      "cell_type": "code",
      "metadata": {
        "id": "BlaLaslXzFAB"
      },
      "source": [
        "distancefeatures=numeric_features.loc[:,[\"electric_mode_distance\",\"hybrid_mode_distance\",\"diesel_mode_distance\",\"total_distance.1\",\"operation_distance\",\"total_distance\"]]"
      ],
      "execution_count": 161,
      "outputs": []
    },
    {
      "cell_type": "code",
      "metadata": {
        "id": "R2km6hlaz3qq"
      },
      "source": [
        "plt.figure(figsize=(20, 5))\n",
        "sns.boxplot(data=distancefeatures)\n",
        "plt.title(\"Distance features outlier\");"
      ],
      "execution_count": null,
      "outputs": []
    },
    {
      "cell_type": "markdown",
      "metadata": {
        "id": "V_fAuseH0ZO4"
      },
      "source": [
        "Outlier removing"
      ]
    },
    {
      "cell_type": "code",
      "metadata": {
        "colab": {
          "base_uri": "https://localhost:8080/",
          "height": 426
        },
        "id": "lOVBzA4_0Xbd",
        "outputId": "828beb34-624c-4752-e153-16baa6ce3fee"
      },
      "source": [
        "\n",
        "median = numeric_features.loc[numeric_features['operation_distance']<600000, 'operation_distance'].median()\n",
        "numeric_features.loc[numeric_features[\"operation_distance\"] > 600000, 'operation_distance'] = np.nan\n",
        "numeric_features.fillna(median)\n",
        "\n",
        "median = numeric_features.loc[numeric_features['total_distance']<600000, 'total_distance'].median()\n",
        "numeric_features.loc[numeric_features[\"total_distance\"] > 600000, 'total_distance'] = np.nan\n",
        "numeric_features.fillna(median)"
      ],
      "execution_count": 14,
      "outputs": [
        {
          "output_type": "execute_result",
          "data": {
            "text/html": [
              "<div>\n",
              "<style scoped>\n",
              "    .dataframe tbody tr th:only-of-type {\n",
              "        vertical-align: middle;\n",
              "    }\n",
              "\n",
              "    .dataframe tbody tr th {\n",
              "        vertical-align: top;\n",
              "    }\n",
              "\n",
              "    .dataframe thead th {\n",
              "        text-align: right;\n",
              "    }\n",
              "</style>\n",
              "<table border=\"1\" class=\"dataframe\">\n",
              "  <thead>\n",
              "    <tr style=\"text-align: right;\">\n",
              "      <th></th>\n",
              "      <th>electric_mode_distance</th>\n",
              "      <th>hybrid_mode_distance</th>\n",
              "      <th>diesel_mode_distance</th>\n",
              "      <th>total_distance.1</th>\n",
              "      <th>operation_time</th>\n",
              "      <th>operation_distance</th>\n",
              "      <th>total_distance</th>\n",
              "      <th>idle_time</th>\n",
              "      <th>measure41</th>\n",
              "      <th>measure42</th>\n",
              "      <th>electric_mode_time</th>\n",
              "      <th>hybrid_mode_time</th>\n",
              "      <th>charge_mode_time</th>\n",
              "      <th>diesel_mode_time</th>\n",
              "      <th>total_time</th>\n",
              "    </tr>\n",
              "  </thead>\n",
              "  <tbody>\n",
              "    <tr>\n",
              "      <th>19806</th>\n",
              "      <td>673.820</td>\n",
              "      <td>37906.789</td>\n",
              "      <td>3.930</td>\n",
              "      <td>38584.539</td>\n",
              "      <td>2176.729</td>\n",
              "      <td>37962.639</td>\n",
              "      <td>37962.639</td>\n",
              "      <td>874.037</td>\n",
              "      <td>37906.789</td>\n",
              "      <td>3.930</td>\n",
              "      <td>575.997000</td>\n",
              "      <td>2154.912000</td>\n",
              "      <td>5.942</td>\n",
              "      <td>8.877000</td>\n",
              "      <td>2745.728000</td>\n",
              "    </tr>\n",
              "    <tr>\n",
              "      <th>19807</th>\n",
              "      <td>693.680</td>\n",
              "      <td>39118.009</td>\n",
              "      <td>4.680</td>\n",
              "      <td>39816.369</td>\n",
              "      <td>2216.488</td>\n",
              "      <td>39176.579</td>\n",
              "      <td>39176.579</td>\n",
              "      <td>882.380</td>\n",
              "      <td>39118.009</td>\n",
              "      <td>4.680</td>\n",
              "      <td>591.379000</td>\n",
              "      <td>2193.720000</td>\n",
              "      <td>5.992</td>\n",
              "      <td>9.523000</td>\n",
              "      <td>2800.614000</td>\n",
              "    </tr>\n",
              "    <tr>\n",
              "      <th>19808</th>\n",
              "      <td>67.430</td>\n",
              "      <td>10629.860</td>\n",
              "      <td>0.090</td>\n",
              "      <td>10697.380</td>\n",
              "      <td>319.862</td>\n",
              "      <td>10634.430</td>\n",
              "      <td>10634.430</td>\n",
              "      <td>116.418</td>\n",
              "      <td>10629.860</td>\n",
              "      <td>0.090</td>\n",
              "      <td>65.530000</td>\n",
              "      <td>314.814000</td>\n",
              "      <td>1.616</td>\n",
              "      <td>3.772000</td>\n",
              "      <td>385.732000</td>\n",
              "    </tr>\n",
              "    <tr>\n",
              "      <th>19809</th>\n",
              "      <td>162.100</td>\n",
              "      <td>16022.820</td>\n",
              "      <td>0.600</td>\n",
              "      <td>16185.520</td>\n",
              "      <td>556.737</td>\n",
              "      <td>16031.620</td>\n",
              "      <td>16031.620</td>\n",
              "      <td>205.049</td>\n",
              "      <td>16022.820</td>\n",
              "      <td>0.600</td>\n",
              "      <td>154.174000</td>\n",
              "      <td>548.342000</td>\n",
              "      <td>3.084</td>\n",
              "      <td>4.603000</td>\n",
              "      <td>710.203000</td>\n",
              "    </tr>\n",
              "    <tr>\n",
              "      <th>19810</th>\n",
              "      <td>693.680</td>\n",
              "      <td>39118.009</td>\n",
              "      <td>4.680</td>\n",
              "      <td>39816.369</td>\n",
              "      <td>2216.488</td>\n",
              "      <td>39176.579</td>\n",
              "      <td>39176.579</td>\n",
              "      <td>882.380</td>\n",
              "      <td>39118.009</td>\n",
              "      <td>4.680</td>\n",
              "      <td>591.379000</td>\n",
              "      <td>2193.720000</td>\n",
              "      <td>5.992</td>\n",
              "      <td>9.523000</td>\n",
              "      <td>2800.614000</td>\n",
              "    </tr>\n",
              "    <tr>\n",
              "      <th>...</th>\n",
              "      <td>...</td>\n",
              "      <td>...</td>\n",
              "      <td>...</td>\n",
              "      <td>...</td>\n",
              "      <td>...</td>\n",
              "      <td>...</td>\n",
              "      <td>...</td>\n",
              "      <td>...</td>\n",
              "      <td>...</td>\n",
              "      <td>...</td>\n",
              "      <td>...</td>\n",
              "      <td>...</td>\n",
              "      <td>...</td>\n",
              "      <td>...</td>\n",
              "      <td>...</td>\n",
              "    </tr>\n",
              "    <tr>\n",
              "      <th>861908</th>\n",
              "      <td>0.000</td>\n",
              "      <td>7.640</td>\n",
              "      <td>0.000</td>\n",
              "      <td>7.640</td>\n",
              "      <td>4.926</td>\n",
              "      <td>7.640</td>\n",
              "      <td>7.640</td>\n",
              "      <td>4.378</td>\n",
              "      <td>7.640</td>\n",
              "      <td>0.000</td>\n",
              "      <td>0.000000</td>\n",
              "      <td>4.380000</td>\n",
              "      <td>0.000</td>\n",
              "      <td>0.709000</td>\n",
              "      <td>5.089000</td>\n",
              "    </tr>\n",
              "    <tr>\n",
              "      <th>861909</th>\n",
              "      <td>212613.575</td>\n",
              "      <td>212613.575</td>\n",
              "      <td>212613.575</td>\n",
              "      <td>212613.575</td>\n",
              "      <td>13681.235</td>\n",
              "      <td>321259.403</td>\n",
              "      <td>321259.403</td>\n",
              "      <td>4187.617</td>\n",
              "      <td>212613.575</td>\n",
              "      <td>212613.575</td>\n",
              "      <td>212613.575000</td>\n",
              "      <td>212613.575000</td>\n",
              "      <td>212613.575</td>\n",
              "      <td>212613.575000</td>\n",
              "      <td>212613.575000</td>\n",
              "    </tr>\n",
              "    <tr>\n",
              "      <th>861911</th>\n",
              "      <td>0.030</td>\n",
              "      <td>6.800</td>\n",
              "      <td>4.550</td>\n",
              "      <td>11.380</td>\n",
              "      <td>4.520</td>\n",
              "      <td>11.360</td>\n",
              "      <td>11.360</td>\n",
              "      <td>3.260</td>\n",
              "      <td>6.800</td>\n",
              "      <td>4.550</td>\n",
              "      <td>0.160000</td>\n",
              "      <td>1.600000</td>\n",
              "      <td>0.010</td>\n",
              "      <td>6.310000</td>\n",
              "      <td>8.080000</td>\n",
              "    </tr>\n",
              "    <tr>\n",
              "      <th>861913</th>\n",
              "      <td>0.210</td>\n",
              "      <td>13.210</td>\n",
              "      <td>4.680</td>\n",
              "      <td>18.100</td>\n",
              "      <td>15.085</td>\n",
              "      <td>17.890</td>\n",
              "      <td>17.890</td>\n",
              "      <td>13.877</td>\n",
              "      <td>13.210</td>\n",
              "      <td>4.680</td>\n",
              "      <td>1.524000</td>\n",
              "      <td>12.333000</td>\n",
              "      <td>0.030</td>\n",
              "      <td>4.567000</td>\n",
              "      <td>18.454000</td>\n",
              "    </tr>\n",
              "    <tr>\n",
              "      <th>861914</th>\n",
              "      <td>0.821</td>\n",
              "      <td>30.921</td>\n",
              "      <td>0.000</td>\n",
              "      <td>31.742</td>\n",
              "      <td>0.000</td>\n",
              "      <td>0.000</td>\n",
              "      <td>212613.575</td>\n",
              "      <td>212613.575</td>\n",
              "      <td>30.407</td>\n",
              "      <td>0.000</td>\n",
              "      <td>0.175833</td>\n",
              "      <td>0.994722</td>\n",
              "      <td>0.045</td>\n",
              "      <td>0.000278</td>\n",
              "      <td>1.215833</td>\n",
              "    </tr>\n",
              "  </tbody>\n",
              "</table>\n",
              "<p>40451 rows × 15 columns</p>\n",
              "</div>"
            ],
            "text/plain": [
              "        electric_mode_distance  ...     total_time\n",
              "19806                  673.820  ...    2745.728000\n",
              "19807                  693.680  ...    2800.614000\n",
              "19808                   67.430  ...     385.732000\n",
              "19809                  162.100  ...     710.203000\n",
              "19810                  693.680  ...    2800.614000\n",
              "...                        ...  ...            ...\n",
              "861908                   0.000  ...       5.089000\n",
              "861909              212613.575  ...  212613.575000\n",
              "861911                   0.030  ...       8.080000\n",
              "861913                   0.210  ...      18.454000\n",
              "861914                   0.821  ...       1.215833\n",
              "\n",
              "[40451 rows x 15 columns]"
            ]
          },
          "metadata": {
            "tags": []
          },
          "execution_count": 14
        }
      ]
    },
    {
      "cell_type": "code",
      "metadata": {
        "colab": {
          "base_uri": "https://localhost:8080/",
          "height": 426
        },
        "id": "okWDYayH3FoF",
        "outputId": "ddb227dd-091d-48e0-a943-448e0d6c363b"
      },
      "source": [
        "\n",
        "median = numeric_features.loc[numeric_features['operation_time']<32000, 'operation_time'].median()\n",
        "numeric_features.loc[numeric_features[\"operation_time\"] > 32000, 'operation_time'] = np.nan\n",
        "numeric_features.fillna(median)\n"
      ],
      "execution_count": 15,
      "outputs": [
        {
          "output_type": "execute_result",
          "data": {
            "text/html": [
              "<div>\n",
              "<style scoped>\n",
              "    .dataframe tbody tr th:only-of-type {\n",
              "        vertical-align: middle;\n",
              "    }\n",
              "\n",
              "    .dataframe tbody tr th {\n",
              "        vertical-align: top;\n",
              "    }\n",
              "\n",
              "    .dataframe thead th {\n",
              "        text-align: right;\n",
              "    }\n",
              "</style>\n",
              "<table border=\"1\" class=\"dataframe\">\n",
              "  <thead>\n",
              "    <tr style=\"text-align: right;\">\n",
              "      <th></th>\n",
              "      <th>electric_mode_distance</th>\n",
              "      <th>hybrid_mode_distance</th>\n",
              "      <th>diesel_mode_distance</th>\n",
              "      <th>total_distance.1</th>\n",
              "      <th>operation_time</th>\n",
              "      <th>operation_distance</th>\n",
              "      <th>total_distance</th>\n",
              "      <th>idle_time</th>\n",
              "      <th>measure41</th>\n",
              "      <th>measure42</th>\n",
              "      <th>electric_mode_time</th>\n",
              "      <th>hybrid_mode_time</th>\n",
              "      <th>charge_mode_time</th>\n",
              "      <th>diesel_mode_time</th>\n",
              "      <th>total_time</th>\n",
              "    </tr>\n",
              "  </thead>\n",
              "  <tbody>\n",
              "    <tr>\n",
              "      <th>19806</th>\n",
              "      <td>673.8200</td>\n",
              "      <td>37906.7890</td>\n",
              "      <td>3.9300</td>\n",
              "      <td>38584.5390</td>\n",
              "      <td>2176.729</td>\n",
              "      <td>37962.639</td>\n",
              "      <td>37962.6390</td>\n",
              "      <td>874.0370</td>\n",
              "      <td>37906.7890</td>\n",
              "      <td>3.9300</td>\n",
              "      <td>575.997000</td>\n",
              "      <td>2154.912000</td>\n",
              "      <td>5.9420</td>\n",
              "      <td>8.877000</td>\n",
              "      <td>2745.728000</td>\n",
              "    </tr>\n",
              "    <tr>\n",
              "      <th>19807</th>\n",
              "      <td>693.6800</td>\n",
              "      <td>39118.0090</td>\n",
              "      <td>4.6800</td>\n",
              "      <td>39816.3690</td>\n",
              "      <td>2216.488</td>\n",
              "      <td>39176.579</td>\n",
              "      <td>39176.5790</td>\n",
              "      <td>882.3800</td>\n",
              "      <td>39118.0090</td>\n",
              "      <td>4.6800</td>\n",
              "      <td>591.379000</td>\n",
              "      <td>2193.720000</td>\n",
              "      <td>5.9920</td>\n",
              "      <td>9.523000</td>\n",
              "      <td>2800.614000</td>\n",
              "    </tr>\n",
              "    <tr>\n",
              "      <th>19808</th>\n",
              "      <td>67.4300</td>\n",
              "      <td>10629.8600</td>\n",
              "      <td>0.0900</td>\n",
              "      <td>10697.3800</td>\n",
              "      <td>319.862</td>\n",
              "      <td>10634.430</td>\n",
              "      <td>10634.4300</td>\n",
              "      <td>116.4180</td>\n",
              "      <td>10629.8600</td>\n",
              "      <td>0.0900</td>\n",
              "      <td>65.530000</td>\n",
              "      <td>314.814000</td>\n",
              "      <td>1.6160</td>\n",
              "      <td>3.772000</td>\n",
              "      <td>385.732000</td>\n",
              "    </tr>\n",
              "    <tr>\n",
              "      <th>19809</th>\n",
              "      <td>162.1000</td>\n",
              "      <td>16022.8200</td>\n",
              "      <td>0.6000</td>\n",
              "      <td>16185.5200</td>\n",
              "      <td>556.737</td>\n",
              "      <td>16031.620</td>\n",
              "      <td>16031.6200</td>\n",
              "      <td>205.0490</td>\n",
              "      <td>16022.8200</td>\n",
              "      <td>0.6000</td>\n",
              "      <td>154.174000</td>\n",
              "      <td>548.342000</td>\n",
              "      <td>3.0840</td>\n",
              "      <td>4.603000</td>\n",
              "      <td>710.203000</td>\n",
              "    </tr>\n",
              "    <tr>\n",
              "      <th>19810</th>\n",
              "      <td>693.6800</td>\n",
              "      <td>39118.0090</td>\n",
              "      <td>4.6800</td>\n",
              "      <td>39816.3690</td>\n",
              "      <td>2216.488</td>\n",
              "      <td>39176.579</td>\n",
              "      <td>39176.5790</td>\n",
              "      <td>882.3800</td>\n",
              "      <td>39118.0090</td>\n",
              "      <td>4.6800</td>\n",
              "      <td>591.379000</td>\n",
              "      <td>2193.720000</td>\n",
              "      <td>5.9920</td>\n",
              "      <td>9.523000</td>\n",
              "      <td>2800.614000</td>\n",
              "    </tr>\n",
              "    <tr>\n",
              "      <th>...</th>\n",
              "      <td>...</td>\n",
              "      <td>...</td>\n",
              "      <td>...</td>\n",
              "      <td>...</td>\n",
              "      <td>...</td>\n",
              "      <td>...</td>\n",
              "      <td>...</td>\n",
              "      <td>...</td>\n",
              "      <td>...</td>\n",
              "      <td>...</td>\n",
              "      <td>...</td>\n",
              "      <td>...</td>\n",
              "      <td>...</td>\n",
              "      <td>...</td>\n",
              "      <td>...</td>\n",
              "    </tr>\n",
              "    <tr>\n",
              "      <th>861908</th>\n",
              "      <td>0.0000</td>\n",
              "      <td>7.6400</td>\n",
              "      <td>0.0000</td>\n",
              "      <td>7.6400</td>\n",
              "      <td>4.926</td>\n",
              "      <td>7.640</td>\n",
              "      <td>7.6400</td>\n",
              "      <td>4.3780</td>\n",
              "      <td>7.6400</td>\n",
              "      <td>0.0000</td>\n",
              "      <td>0.000000</td>\n",
              "      <td>4.380000</td>\n",
              "      <td>0.0000</td>\n",
              "      <td>0.709000</td>\n",
              "      <td>5.089000</td>\n",
              "    </tr>\n",
              "    <tr>\n",
              "      <th>861909</th>\n",
              "      <td>12194.3335</td>\n",
              "      <td>12194.3335</td>\n",
              "      <td>12194.3335</td>\n",
              "      <td>12194.3335</td>\n",
              "      <td>13681.235</td>\n",
              "      <td>321259.403</td>\n",
              "      <td>321259.4030</td>\n",
              "      <td>4187.6170</td>\n",
              "      <td>12194.3335</td>\n",
              "      <td>12194.3335</td>\n",
              "      <td>12194.333500</td>\n",
              "      <td>12194.333500</td>\n",
              "      <td>12194.3335</td>\n",
              "      <td>12194.333500</td>\n",
              "      <td>12194.333500</td>\n",
              "    </tr>\n",
              "    <tr>\n",
              "      <th>861911</th>\n",
              "      <td>0.0300</td>\n",
              "      <td>6.8000</td>\n",
              "      <td>4.5500</td>\n",
              "      <td>11.3800</td>\n",
              "      <td>4.520</td>\n",
              "      <td>11.360</td>\n",
              "      <td>11.3600</td>\n",
              "      <td>3.2600</td>\n",
              "      <td>6.8000</td>\n",
              "      <td>4.5500</td>\n",
              "      <td>0.160000</td>\n",
              "      <td>1.600000</td>\n",
              "      <td>0.0100</td>\n",
              "      <td>6.310000</td>\n",
              "      <td>8.080000</td>\n",
              "    </tr>\n",
              "    <tr>\n",
              "      <th>861913</th>\n",
              "      <td>0.2100</td>\n",
              "      <td>13.2100</td>\n",
              "      <td>4.6800</td>\n",
              "      <td>18.1000</td>\n",
              "      <td>15.085</td>\n",
              "      <td>17.890</td>\n",
              "      <td>17.8900</td>\n",
              "      <td>13.8770</td>\n",
              "      <td>13.2100</td>\n",
              "      <td>4.6800</td>\n",
              "      <td>1.524000</td>\n",
              "      <td>12.333000</td>\n",
              "      <td>0.0300</td>\n",
              "      <td>4.567000</td>\n",
              "      <td>18.454000</td>\n",
              "    </tr>\n",
              "    <tr>\n",
              "      <th>861914</th>\n",
              "      <td>0.8210</td>\n",
              "      <td>30.9210</td>\n",
              "      <td>0.0000</td>\n",
              "      <td>31.7420</td>\n",
              "      <td>0.000</td>\n",
              "      <td>0.000</td>\n",
              "      <td>12194.3335</td>\n",
              "      <td>12194.3335</td>\n",
              "      <td>30.4070</td>\n",
              "      <td>0.0000</td>\n",
              "      <td>0.175833</td>\n",
              "      <td>0.994722</td>\n",
              "      <td>0.0450</td>\n",
              "      <td>0.000278</td>\n",
              "      <td>1.215833</td>\n",
              "    </tr>\n",
              "  </tbody>\n",
              "</table>\n",
              "<p>40451 rows × 15 columns</p>\n",
              "</div>"
            ],
            "text/plain": [
              "        electric_mode_distance  ...    total_time\n",
              "19806                 673.8200  ...   2745.728000\n",
              "19807                 693.6800  ...   2800.614000\n",
              "19808                  67.4300  ...    385.732000\n",
              "19809                 162.1000  ...    710.203000\n",
              "19810                 693.6800  ...   2800.614000\n",
              "...                        ...  ...           ...\n",
              "861908                  0.0000  ...      5.089000\n",
              "861909              12194.3335  ...  12194.333500\n",
              "861911                  0.0300  ...      8.080000\n",
              "861913                  0.2100  ...     18.454000\n",
              "861914                  0.8210  ...      1.215833\n",
              "\n",
              "[40451 rows x 15 columns]"
            ]
          },
          "metadata": {
            "tags": []
          },
          "execution_count": 15
        }
      ]
    },
    {
      "cell_type": "code",
      "metadata": {
        "id": "MBPvvwpe2m-E"
      },
      "source": [
        "plt.figure(figsize=(30, 10))\n",
        "sns.boxplot(data=numeric_features)\n",
        "plt.title(\"Numerical features outlier\");"
      ],
      "execution_count": null,
      "outputs": []
    },
    {
      "cell_type": "markdown",
      "metadata": {
        "id": "KamAZ9zH0Dts"
      },
      "source": [
        "Check numerical features distribution\n",
        "\n"
      ]
    },
    {
      "cell_type": "code",
      "metadata": {
        "colab": {
          "base_uri": "https://localhost:8080/",
          "height": 1000
        },
        "id": "Lg30I4RF0VqF",
        "outputId": "c3687b47-4196-453c-997c-3bc2d054ae49"
      },
      "source": [
        "numeric_features.hist(figsize=(16, 20), bins=50, xlabelsize=8, ylabelsize=8);"
      ],
      "execution_count": 31,
      "outputs": [
        {
          "output_type": "display_data",
          "data": {
            "image/png": "[encoded data removed]",
            "text/plain": [
              "<Figure size 1152x1440 with 16 Axes>"
            ]
          },
          "metadata": {
            "tags": [],
            "needs_background": "light"
          }
        }
      ]
    },
    {
      "cell_type": "markdown",
      "metadata": {
        "id": "o73uLl8x037k"
      },
      "source": [
        "After checking the distribution, we are going to take median because features have positive or negative skewness."
      ]
    },
    {
      "cell_type": "markdown",
      "metadata": {
        "id": "8_rs3ixs1QKy"
      },
      "source": [
        "Treating missing values by taking median of numeric data"
      ]
    },
    {
      "cell_type": "markdown",
      "metadata": {
        "id": "XKN4qLxE1jwB"
      },
      "source": [
        "Missing data imputation on numerical data"
      ]
    },
    {
      "cell_type": "code",
      "metadata": {
        "colab": {
          "base_uri": "https://localhost:8080/"
        },
        "id": "SJlOn-TH1LXi",
        "outputId": "ca4d8637-7e6f-4873-cb4a-4869375163a4"
      },
      "source": [
        "numeric_features.dropna()\n",
        "mean_val=round(numeric_features.median(),0)\n",
        "numeric_features=numeric_features.fillna(mean_val)\n",
        "mean_val=round(numeric_features.median(),0)\n",
        "mean_val"
      ],
      "execution_count": 16,
      "outputs": [
        {
          "output_type": "execute_result",
          "data": {
            "text/plain": [
              "electric_mode_distance      2572.0\n",
              "hybrid_mode_distance      223271.0\n",
              "diesel_mode_distance          35.0\n",
              "total_distance.1          228742.0\n",
              "operation_time             12194.0\n",
              "operation_distance        212777.0\n",
              "total_distance            212614.0\n",
              "idle_time                   3719.0\n",
              "measure41                 215713.0\n",
              "measure42                     29.0\n",
              "electric_mode_time          2040.0\n",
              "hybrid_mode_time           12600.0\n",
              "charge_mode_time              47.0\n",
              "diesel_mode_time              18.0\n",
              "total_time                 15007.0\n",
              "dtype: float64"
            ]
          },
          "metadata": {
            "tags": []
          },
          "execution_count": 16
        }
      ]
    },
    {
      "cell_type": "code",
      "metadata": {
        "colab": {
          "base_uri": "https://localhost:8080/"
        },
        "id": "srF6JC-b1fd8",
        "outputId": "64928d81-9a44-4882-c3e1-8bfba1497c01"
      },
      "source": [
        "numeric_features.isnull().sum()"
      ],
      "execution_count": 18,
      "outputs": [
        {
          "output_type": "execute_result",
          "data": {
            "text/plain": [
              "electric_mode_distance    0\n",
              "hybrid_mode_distance      0\n",
              "diesel_mode_distance      0\n",
              "total_distance.1          0\n",
              "operation_time            0\n",
              "operation_distance        0\n",
              "total_distance            0\n",
              "idle_time                 0\n",
              "measure41                 0\n",
              "measure42                 0\n",
              "electric_mode_time        0\n",
              "hybrid_mode_time          0\n",
              "charge_mode_time          0\n",
              "diesel_mode_time          0\n",
              "total_time                0\n",
              "dtype: int64"
            ]
          },
          "metadata": {
            "tags": []
          },
          "execution_count": 18
        }
      ]
    },
    {
      "cell_type": "markdown",
      "metadata": {
        "id": "IYNm42ae1qXo"
      },
      "source": [
        "Missing data imputation on catagorical features"
      ]
    },
    {
      "cell_type": "code",
      "metadata": {
        "colab": {
          "base_uri": "https://localhost:8080/"
        },
        "id": "E-Ee6tCrIKq9",
        "outputId": "8046179b-b581-4c85-e9cd-2cbcf70ce3f1"
      },
      "source": [
        "catagorical_features.isnull().sum()"
      ],
      "execution_count": 17,
      "outputs": [
        {
          "output_type": "execute_result",
          "data": {
            "text/plain": [
              "vehicle_id                              0\n",
              "sender                                  0\n",
              "battery_version                         0\n",
              "battery_generation                      0\n",
              "country                                 0\n",
              "emission_level                          0\n",
              "mounted_battery_generation              0\n",
              "engine_type                          3264\n",
              "geo_area                             3264\n",
              "city                                 3490\n",
              "is_bttery_changed                       0\n",
              "battery_supplier                        0\n",
              "is_vip_fleet                            0\n",
              "is_battery_supplier_type2_faulty        0\n",
              "is_checked_in_vda                       0\n",
              "is_fleet_tof_monitored                  0\n",
              "is_pattern_available                    0\n",
              "measure_row                             0\n",
              "measure_r_d                          2452\n",
              "measure_1                           16112\n",
              "measure_2                            6255\n",
              "current_yearly_mileage                  0\n",
              "vehicle_mrk_type                        0\n",
              "fleet_id                             1866\n",
              "dtype: int64"
            ]
          },
          "metadata": {
            "tags": []
          },
          "execution_count": 17
        }
      ]
    },
    {
      "cell_type": "code",
      "metadata": {
        "colab": {
          "base_uri": "https://localhost:8080/"
        },
        "id": "oGb8_Qfj1wJy",
        "outputId": "38d75750-d669-4ee1-d983-db25c4f6bb9a"
      },
      "source": [
        "\n",
        "catagorical_features.dropna()\n",
        "mode_eng=catagorical_features[\"engine_type\"].mode()\n",
        "mode_cty=catagorical_features[\"city\"].mode()\n",
        "mode_geo=catagorical_features[\"geo_area\"].mode()\n",
        "mode_mrd=catagorical_features[\"measure_r_d\"].mode()\n",
        "mode_m1=catagorical_features[\"measure_1\"].mode()\n",
        "mode_m2=catagorical_features[\"measure_2\"].mode()\n",
        "mode_fid=catagorical_features[\"fleet_id\"].mode()\n",
        "\n",
        "\n",
        "catagorical_features[\"engine_type\"]=catagorical_features[\"engine_type\"].fillna(mode_eng[0])\n",
        "catagorical_features[\"geo_area\"]=catagorical_features[\"geo_area\"].fillna(mode_geo[0])\n",
        "catagorical_features[\"city\"]=catagorical_features[\"city\"].fillna(mode_cty[0])\n",
        "catagorical_features[\"measure_r_d\"]=catagorical_features[\"measure_r_d\"].fillna(mode_mrd[0])\n",
        "catagorical_features[\"measure_1\"]=catagorical_features[\"measure_1\"].fillna(mode_m1[0])\n",
        "catagorical_features[\"measure_2\"]=catagorical_features[\"measure_2\"].fillna(mode_m2[0])\n",
        "catagorical_features[\"fleet_id\"]=catagorical_features[\"fleet_id\"].fillna(mode_fid[0])\n",
        "\n",
        "\n",
        "catagorical_features.isnull().sum()\n"
      ],
      "execution_count": 19,
      "outputs": [
        {
          "output_type": "execute_result",
          "data": {
            "text/plain": [
              "vehicle_id                          0\n",
              "sender                              0\n",
              "battery_version                     0\n",
              "battery_generation                  0\n",
              "country                             0\n",
              "emission_level                      0\n",
              "mounted_battery_generation          0\n",
              "engine_type                         0\n",
              "geo_area                            0\n",
              "city                                0\n",
              "is_bttery_changed                   0\n",
              "battery_supplier                    0\n",
              "is_vip_fleet                        0\n",
              "is_battery_supplier_type2_faulty    0\n",
              "is_checked_in_vda                   0\n",
              "is_fleet_tof_monitored              0\n",
              "is_pattern_available                0\n",
              "measure_row                         0\n",
              "measure_r_d                         0\n",
              "measure_1                           0\n",
              "measure_2                           0\n",
              "current_yearly_mileage              0\n",
              "vehicle_mrk_type                    0\n",
              "fleet_id                            0\n",
              "dtype: int64"
            ]
          },
          "metadata": {
            "tags": []
          },
          "execution_count": 19
        }
      ]
    },
    {
      "cell_type": "markdown",
      "metadata": {
        "id": "C7i869uO0JMX"
      },
      "source": [
        "Numerical feature selection using pearson corelation"
      ]
    },
    {
      "cell_type": "code",
      "metadata": {
        "colab": {
          "base_uri": "https://localhost:8080/",
          "height": 732
        },
        "id": "JKorBwQWxgPK",
        "outputId": "bf3904d7-1432-4122-be4d-bbdc8ffdf8b7"
      },
      "source": [
        "\n",
        "import matplotlib.pyplot as plt\n",
        "corr=numeric_features.corr()\n",
        "plt.figure(figsize=(30, 10))\n",
        "\n",
        "sns.heatmap(corr[(corr >= 0) | (corr <= -0)], \n",
        "            cmap='YlGnBu', vmax=1.0, vmin=-1.0, linewidths=0.1,\n",
        "            annot=True, annot_kws={\"size\": 8}, square=True);\n",
        "plt.title('Correlation between features')"
      ],
      "execution_count": 21,
      "outputs": [
        {
          "output_type": "execute_result",
          "data": {
            "text/plain": [
              "Text(0.5, 1.0, 'Correlation between features')"
            ]
          },
          "metadata": {
            "tags": []
          },
          "execution_count": 21
        },
        {
          "output_type": "display_data",
          "data": {
            "image/png": "[encoded data removed]",
            "text/plain": [
              "<Figure size 2160x720 with 2 Axes>"
            ]
          },
          "metadata": {
            "tags": [],
            "needs_background": "light"
          }
        }
      ]
    },
    {
      "cell_type": "markdown",
      "metadata": {
        "id": "2uuX7O9zv470"
      },
      "source": [
        "After analyse of corelation heat map, it shows that features are corelate with each othr, so we are applying pca for feature selection.\n",
        "\n"
      ]
    },
    {
      "cell_type": "markdown",
      "metadata": {
        "id": "2woP6eSYOYr_"
      },
      "source": [
        "Mean Normalization on numerical features"
      ]
    },
    {
      "cell_type": "code",
      "metadata": {
        "colab": {
          "base_uri": "https://localhost:8080/",
          "height": 374
        },
        "id": "gFePIAblOPlN",
        "outputId": "2f8d8d3b-2fbe-444c-efcd-906cdf9d9bc2"
      },
      "source": [
        "numeric_features = ((numeric_features - numeric_features.mean())/(numeric_features.max() - numeric_features.min()))\n",
        "numeric_features.describe()"
      ],
      "execution_count": 167,
      "outputs": [
        {
          "output_type": "execute_result",
          "data": {
            "text/html": [
              "<div>\n",
              "<style scoped>\n",
              "    .dataframe tbody tr th:only-of-type {\n",
              "        vertical-align: middle;\n",
              "    }\n",
              "\n",
              "    .dataframe tbody tr th {\n",
              "        vertical-align: top;\n",
              "    }\n",
              "\n",
              "    .dataframe thead th {\n",
              "        text-align: right;\n",
              "    }\n",
              "</style>\n",
              "<table border=\"1\" class=\"dataframe\">\n",
              "  <thead>\n",
              "    <tr style=\"text-align: right;\">\n",
              "      <th></th>\n",
              "      <th>electric_mode_distance</th>\n",
              "      <th>hybrid_mode_distance</th>\n",
              "      <th>diesel_mode_distance</th>\n",
              "      <th>total_distance.1</th>\n",
              "      <th>operation_time</th>\n",
              "      <th>operation_distance</th>\n",
              "      <th>total_distance</th>\n",
              "      <th>idle_time</th>\n",
              "      <th>measure41</th>\n",
              "      <th>measure42</th>\n",
              "      <th>electric_mode_time</th>\n",
              "      <th>hybrid_mode_time</th>\n",
              "      <th>charge_mode_time</th>\n",
              "      <th>diesel_mode_time</th>\n",
              "      <th>total_time</th>\n",
              "    </tr>\n",
              "  </thead>\n",
              "  <tbody>\n",
              "    <tr>\n",
              "      <th>count</th>\n",
              "      <td>4.045100e+04</td>\n",
              "      <td>4.045100e+04</td>\n",
              "      <td>4.045100e+04</td>\n",
              "      <td>4.045100e+04</td>\n",
              "      <td>4.045100e+04</td>\n",
              "      <td>4.045100e+04</td>\n",
              "      <td>4.045100e+04</td>\n",
              "      <td>4.045100e+04</td>\n",
              "      <td>4.045100e+04</td>\n",
              "      <td>4.045100e+04</td>\n",
              "      <td>4.045100e+04</td>\n",
              "      <td>4.045100e+04</td>\n",
              "      <td>4.045100e+04</td>\n",
              "      <td>4.045100e+04</td>\n",
              "      <td>4.045100e+04</td>\n",
              "    </tr>\n",
              "    <tr>\n",
              "      <th>mean</th>\n",
              "      <td>1.070189e-15</td>\n",
              "      <td>4.155463e-15</td>\n",
              "      <td>2.388552e-15</td>\n",
              "      <td>1.870858e-15</td>\n",
              "      <td>2.563313e-15</td>\n",
              "      <td>-1.711410e-15</td>\n",
              "      <td>1.336868e-15</td>\n",
              "      <td>2.020090e-15</td>\n",
              "      <td>-8.247724e-16</td>\n",
              "      <td>2.839553e-15</td>\n",
              "      <td>-4.292249e-15</td>\n",
              "      <td>5.509534e-17</td>\n",
              "      <td>-1.560662e-16</td>\n",
              "      <td>1.094417e-15</td>\n",
              "      <td>2.372786e-16</td>\n",
              "    </tr>\n",
              "    <tr>\n",
              "      <th>std</th>\n",
              "      <td>9.908463e-02</td>\n",
              "      <td>1.918326e-01</td>\n",
              "      <td>9.365172e-02</td>\n",
              "      <td>1.718876e-01</td>\n",
              "      <td>2.229630e-01</td>\n",
              "      <td>1.922130e-01</td>\n",
              "      <td>1.886271e-01</td>\n",
              "      <td>2.094316e-01</td>\n",
              "      <td>2.076711e-01</td>\n",
              "      <td>8.939351e-02</td>\n",
              "      <td>1.234059e-01</td>\n",
              "      <td>2.182344e-01</td>\n",
              "      <td>1.120349e-01</td>\n",
              "      <td>1.447816e-01</td>\n",
              "      <td>1.750262e-01</td>\n",
              "    </tr>\n",
              "    <tr>\n",
              "      <th>min</th>\n",
              "      <td>-5.644701e-02</td>\n",
              "      <td>-4.471042e-01</td>\n",
              "      <td>-5.026865e-02</td>\n",
              "      <td>-4.424590e-01</td>\n",
              "      <td>-3.726821e-01</td>\n",
              "      <td>-3.628565e-01</td>\n",
              "      <td>-3.626165e-01</td>\n",
              "      <td>-3.208072e-01</td>\n",
              "      <td>-4.217638e-01</td>\n",
              "      <td>-4.295566e-02</td>\n",
              "      <td>-2.147154e-01</td>\n",
              "      <td>-4.805490e-01</td>\n",
              "      <td>-1.579713e-01</td>\n",
              "      <td>-1.946329e-01</td>\n",
              "      <td>-4.596673e-01</td>\n",
              "    </tr>\n",
              "    <tr>\n",
              "      <th>25%</th>\n",
              "      <td>-3.728717e-02</td>\n",
              "      <td>-6.278824e-02</td>\n",
              "      <td>-3.873816e-02</td>\n",
              "      <td>-4.389234e-02</td>\n",
              "      <td>-2.107136e-01</td>\n",
              "      <td>-1.755174e-01</td>\n",
              "      <td>-1.628288e-01</td>\n",
              "      <td>-2.198469e-01</td>\n",
              "      <td>-1.458899e-01</td>\n",
              "      <td>-3.692351e-02</td>\n",
              "      <td>-6.184540e-02</td>\n",
              "      <td>-1.465182e-01</td>\n",
              "      <td>-7.705136e-02</td>\n",
              "      <td>-9.964873e-02</td>\n",
              "      <td>-6.608288e-02</td>\n",
              "    </tr>\n",
              "    <tr>\n",
              "      <th>50%</th>\n",
              "      <td>-3.350574e-02</td>\n",
              "      <td>4.543663e-02</td>\n",
              "      <td>-2.512271e-02</td>\n",
              "      <td>3.487389e-02</td>\n",
              "      <td>8.432274e-02</td>\n",
              "      <td>5.148138e-02</td>\n",
              "      <td>5.140397e-02</td>\n",
              "      <td>7.922869e-02</td>\n",
              "      <td>6.316680e-02</td>\n",
              "      <td>-2.212046e-02</td>\n",
              "      <td>-2.846271e-02</td>\n",
              "      <td>7.323476e-02</td>\n",
              "      <td>-7.320362e-03</td>\n",
              "      <td>-2.188591e-02</td>\n",
              "      <td>4.947669e-02</td>\n",
              "    </tr>\n",
              "    <tr>\n",
              "      <th>75%</th>\n",
              "      <td>-2.256954e-02</td>\n",
              "      <td>1.140160e-01</td>\n",
              "      <td>1.812180e-03</td>\n",
              "      <td>9.382667e-02</td>\n",
              "      <td>1.884181e-01</td>\n",
              "      <td>1.347400e-01</td>\n",
              "      <td>1.279539e-01</td>\n",
              "      <td>1.750891e-01</td>\n",
              "      <td>1.393493e-01</td>\n",
              "      <td>2.709361e-03</td>\n",
              "      <td>3.010613e-02</td>\n",
              "      <td>1.507581e-01</td>\n",
              "      <td>4.530374e-02</td>\n",
              "      <td>5.668040e-02</td>\n",
              "      <td>1.094498e-01</td>\n",
              "    </tr>\n",
              "    <tr>\n",
              "      <th>max</th>\n",
              "      <td>9.435530e-01</td>\n",
              "      <td>5.528958e-01</td>\n",
              "      <td>9.497314e-01</td>\n",
              "      <td>5.575410e-01</td>\n",
              "      <td>6.273179e-01</td>\n",
              "      <td>6.371435e-01</td>\n",
              "      <td>6.373835e-01</td>\n",
              "      <td>6.791928e-01</td>\n",
              "      <td>5.782362e-01</td>\n",
              "      <td>9.570443e-01</td>\n",
              "      <td>7.852846e-01</td>\n",
              "      <td>5.194510e-01</td>\n",
              "      <td>8.420287e-01</td>\n",
              "      <td>8.053671e-01</td>\n",
              "      <td>5.403327e-01</td>\n",
              "    </tr>\n",
              "  </tbody>\n",
              "</table>\n",
              "</div>"
            ],
            "text/plain": [
              "       electric_mode_distance  ...    total_time\n",
              "count            4.045100e+04  ...  4.045100e+04\n",
              "mean             1.070189e-15  ...  2.372786e-16\n",
              "std              9.908463e-02  ...  1.750262e-01\n",
              "min             -5.644701e-02  ... -4.596673e-01\n",
              "25%             -3.728717e-02  ... -6.608288e-02\n",
              "50%             -3.350574e-02  ...  4.947669e-02\n",
              "75%             -2.256954e-02  ...  1.094498e-01\n",
              "max              9.435530e-01  ...  5.403327e-01\n",
              "\n",
              "[8 rows x 15 columns]"
            ]
          },
          "metadata": {
            "tags": []
          },
          "execution_count": 167
        }
      ]
    },
    {
      "cell_type": "code",
      "metadata": {
        "colab": {
          "base_uri": "https://localhost:8080/",
          "height": 1000
        },
        "id": "NOZ_hutmFVca",
        "outputId": "157d8ddc-1846-470a-ddd5-1cf5b604de47"
      },
      "source": [
        "numeric_features.hist(figsize=(16, 20),xlabelsize=8, ylabelsize=8);"
      ],
      "execution_count": 168,
      "outputs": [
        {
          "output_type": "display_data",
          "data": {
            "image/png": "[encoded data removed]",
            "text/plain": [
              "<Figure size 1152x1440 with 16 Axes>"
            ]
          },
          "metadata": {
            "tags": [],
            "needs_background": "light"
          }
        }
      ]
    },
    {
      "cell_type": "markdown",
      "metadata": {
        "id": "8hIRaV9Vmlwr"
      },
      "source": [
        "### Exploratory Analysis"
      ]
    },
    {
      "cell_type": "markdown",
      "metadata": {
        "id": "MU_T1340nFpa"
      },
      "source": [
        "On Raw Data"
      ]
    },
    {
      "cell_type": "code",
      "metadata": {
        "id": "yfW5YcaunF_G"
      },
      "source": [
        "plt.title('On Raw Data')\n",
        "sns.countplot(\"battery_supplier\",hue=\"battery_generation\",data=raw_data)"
      ],
      "execution_count": null,
      "outputs": []
    },
    {
      "cell_type": "markdown",
      "metadata": {
        "id": "sKa4EVojm-Uy"
      },
      "source": [
        "After cleaning data"
      ]
    },
    {
      "cell_type": "code",
      "metadata": {
        "id": "gyoJ76damp_5"
      },
      "source": [
        "plt.title('After cleaning data')\n",
        "sns.countplot(\"battery_supplier\",hue=\"battery_generation\",data=cleansed_data)"
      ],
      "execution_count": null,
      "outputs": []
    },
    {
      "cell_type": "markdown",
      "metadata": {
        "id": "3jKi3F-gnuMT"
      },
      "source": [
        "On raw data"
      ]
    },
    {
      "cell_type": "code",
      "metadata": {
        "id": "l6owut21nucJ"
      },
      "source": [
        "sns.countplot(\"battery_generation\",hue=\"battery_supplier\",data=raw_data)"
      ],
      "execution_count": null,
      "outputs": []
    },
    {
      "cell_type": "markdown",
      "metadata": {
        "id": "K2zXNf0-no2K"
      },
      "source": [
        "After cleaning data"
      ]
    },
    {
      "cell_type": "code",
      "metadata": {
        "id": "8BudlYxOnj9v"
      },
      "source": [
        "sns.countplot(\"battery_generation\",hue=\"battery_supplier\",data=cleansed_data)"
      ],
      "execution_count": null,
      "outputs": []
    },
    {
      "cell_type": "markdown",
      "metadata": {
        "id": "ZL9FwcupnsUC"
      },
      "source": [
        "on raw data"
      ]
    },
    {
      "cell_type": "code",
      "metadata": {
        "id": "fAX5cozXoicZ"
      },
      "source": [
        "plt.title('On Raw Data')\n",
        "sns.countplot(\"engine_type\",hue=\"battery_supplier\",data=raw_data)#[(raw_data[\"engine_type\"]==1)])"
      ],
      "execution_count": null,
      "outputs": []
    },
    {
      "cell_type": "markdown",
      "metadata": {
        "id": "drkG4IQkolin"
      },
      "source": [
        "After cleaning data"
      ]
    },
    {
      "cell_type": "code",
      "metadata": {
        "id": "yWA1V9EZorBM"
      },
      "source": [
        "plt.title('After Cleaning Data')\n",
        "sns.countplot(\"engine_type\",hue=\"battery_supplier\",data=cleansed_data)"
      ],
      "execution_count": null,
      "outputs": []
    },
    {
      "cell_type": "code",
      "metadata": {
        "colab": {
          "base_uri": "https://localhost:8080/"
        },
        "id": "TJ3FQTJpzBl3",
        "outputId": "3c0ffa30-84a6-40d7-a0ff-774f345d711a"
      },
      "source": [
        "\n",
        "newdata = pd.concat([numeric_features, catagorical_features], axis=1)\n",
        "newdata.shape"
      ],
      "execution_count": 20,
      "outputs": [
        {
          "output_type": "execute_result",
          "data": {
            "text/plain": [
              "(40451, 39)"
            ]
          },
          "metadata": {
            "tags": []
          },
          "execution_count": 20
        }
      ]
    },
    {
      "cell_type": "markdown",
      "metadata": {
        "id": "OdeTDuV-vmBC"
      },
      "source": [
        "### Machine Learning Modeling and Evaluation"
      ]
    },
    {
      "cell_type": "markdown",
      "metadata": {
        "id": "yvPiiLlvbDJm"
      },
      "source": [
        "Define the Regression problem : Predicting the Operation time using Regression Algorithms."
      ]
    },
    {
      "cell_type": "markdown",
      "metadata": {
        "id": "9SD9USFB0IaE"
      },
      "source": [
        "Applying correlation of all columns with operation_time"
      ]
    },
    {
      "cell_type": "code",
      "metadata": {
        "id": "72hfICNwLRgl",
        "colab": {
          "base_uri": "https://localhost:8080/"
        },
        "outputId": "9d3af90f-9dd0-4ec3-9b24-42bd64555d8d"
      },
      "source": [
        "\n",
        "data_operation=pd.DataFrame(newdata.loc[:, newdata.corr()['operation_time'] > 0.2])\n",
        "data_operation.reset_index(inplace=False)\n",
        "data_operation.columns"
      ],
      "execution_count": 171,
      "outputs": [
        {
          "output_type": "execute_result",
          "data": {
            "text/plain": [
              "Index(['hybrid_mode_distance', 'total_distance.1', 'operation_time',\n",
              "       'operation_distance', 'total_distance', 'idle_time', 'measure41',\n",
              "       'hybrid_mode_time', 'charge_mode_time', 'diesel_mode_time',\n",
              "       'total_time', 'sender', 'battery_generation', 'emission_level',\n",
              "       'mounted_battery_generation', 'engine_type', 'battery_supplier',\n",
              "       'measure_row', 'current_yearly_mileage'],\n",
              "      dtype='object')"
            ]
          },
          "metadata": {
            "tags": []
          },
          "execution_count": 171
        }
      ]
    },
    {
      "cell_type": "code",
      "metadata": {
        "id": "gXv76uy1a2dd"
      },
      "source": [
        "targetr=data_operation[\"operation_time\"]\n",
        "numeric_features=data_operation.drop(labels=\"operation_time\",axis=1)"
      ],
      "execution_count": 47,
      "outputs": []
    },
    {
      "cell_type": "markdown",
      "metadata": {
        "id": "Uff8S7fKmRX-"
      },
      "source": [
        "Modelling Without PCA "
      ]
    },
    {
      "cell_type": "code",
      "metadata": {
        "colab": {
          "base_uri": "https://localhost:8080/"
        },
        "id": "KHKbzNgRmTvb",
        "outputId": "cf5eedbc-7914-4082-e83a-efd2edb0d22a"
      },
      "source": [
        "from sklearn.model_selection import train_test_split\n",
        "x_train,x_test, y_train, y_test = train_test_split(numeric_features, targetr, test_size = 0.30, random_state=42)\n",
        "print(\"x_train \",x_train.shape)\n",
        "print(\"x_test \",x_test.shape)\n",
        "print(\"y_train \",y_train.shape)\n",
        "print(\"y_test \",y_test.shape)"
      ],
      "execution_count": 80,
      "outputs": [
        {
          "output_type": "stream",
          "text": [
            "x_train  (28315, 15)\n",
            "x_test  (12136, 15)\n",
            "y_train  (28315,)\n",
            "y_test  (12136,)\n"
          ],
          "name": "stdout"
        }
      ]
    },
    {
      "cell_type": "markdown",
      "metadata": {
        "id": "J01v-buimgPj"
      },
      "source": [
        "Linear Regression"
      ]
    },
    {
      "cell_type": "code",
      "metadata": {
        "colab": {
          "base_uri": "https://localhost:8080/"
        },
        "id": "rGnJnN-tmsLP",
        "outputId": "a8d6cfd4-a048-492b-e497-a01b8bfb9384"
      },
      "source": [
        "from sklearn.linear_model import LinearRegression\n",
        "from sklearn.metrics import mean_squared_error, r2_score\n",
        "model=LinearRegression()\n",
        "model.fit(x_train,y_train)\n",
        "predicted=model.predict(x_test)\n",
        "print(\"mean square error: %.2f \" %mean_squared_error(y_test,predicted))\n",
        "print(\"r square score: %.2f\" %r2_score(y_test,predicted))"
      ],
      "execution_count": 49,
      "outputs": [
        {
          "output_type": "stream",
          "text": [
            "mean square error: 0.01 \n",
            "r square score: 0.88\n"
          ],
          "name": "stdout"
        }
      ]
    },
    {
      "cell_type": "markdown",
      "metadata": {
        "id": "EcYjfVAgmz0i"
      },
      "source": [
        "Supoort vector regression"
      ]
    },
    {
      "cell_type": "code",
      "metadata": {
        "id": "VdHNjDTUDdHo"
      },
      "source": [
        "from sklearn.svm import SVR\n",
        "regressor = SVR(kernel='rbf', C=1e3, gamma = 0.5)\n",
        "regressor.fit(x_train,y_train)\n",
        "predicted=regressor.predict(x_test)\n",
        "print(\"mean square error: %.2f \" %mean_squared_error(y_test,predicted))\n",
        "print(\"r square score: %.2f\" %r2_score(y_test,predicted))"
      ],
      "execution_count": null,
      "outputs": []
    },
    {
      "cell_type": "markdown",
      "metadata": {
        "id": "0CAxNYTTaJc-"
      },
      "source": [
        "Applying PCA "
      ]
    },
    {
      "cell_type": "code",
      "metadata": {
        "id": "Ll49K292aJu7"
      },
      "source": [
        "from sklearn.decomposition import PCA\n",
        "pca = PCA(n_components=6)\n",
        "principalComponents = pca.fit_transform(numeric_features)"
      ],
      "execution_count": null,
      "outputs": []
    },
    {
      "cell_type": "markdown",
      "metadata": {
        "id": "9rAI0ivMYfse"
      },
      "source": [
        "Data Spliting"
      ]
    },
    {
      "cell_type": "code",
      "metadata": {
        "id": "EMNuFSDlYiwk"
      },
      "source": [
        "from sklearn.model_selection import train_test_split\n",
        "x_train,x_test, y_train, y_test = train_test_split(principalComponents, targetr, test_size = 0.30, random_state=40)\n",
        "print(\"x_train \",x_train.shape)\n",
        "print(\"x_test \",x_test.shape)\n",
        "print(\"y_train \",y_train.shape)\n",
        "print(\"y_test \",y_test.shape)"
      ],
      "execution_count": null,
      "outputs": []
    },
    {
      "cell_type": "markdown",
      "metadata": {
        "id": "LeCfXG25cNOs"
      },
      "source": [
        "Linear Regression"
      ]
    },
    {
      "cell_type": "code",
      "metadata": {
        "id": "3W3F2hJbcMmf"
      },
      "source": [
        "from sklearn.linear_model import LinearRegression\n",
        "from sklearn.metrics import mean_squared_error, r2_score\n",
        "model=LinearRegression()\n",
        "model.fit(x_train,y_train)\n",
        "predicted=model.predict(x_test)\n",
        "print(\"mean square error: %.2f \" %mean_squared_error(y_test,predicted))\n",
        "print(\"r square score: %.2f\" %r2_score(y_test,predicted))"
      ],
      "execution_count": null,
      "outputs": []
    },
    {
      "cell_type": "markdown",
      "metadata": {
        "id": "-UtVsNSEd0F_"
      },
      "source": [
        "Supoort vector regression"
      ]
    },
    {
      "cell_type": "code",
      "metadata": {
        "id": "hipUJBnpeZ2P"
      },
      "source": [
        "from sklearn.svm import SVR\n",
        "regressor = SVR(kernel='rbf', C=1e3, gamma = 0.5)\n",
        "regressor.fit(x_train,y_train)\n",
        "predicted=regressor.predict(x_test)\n",
        "print(\"mean square error: %.2f \" %mean_squared_error(y_test,predicted))\n",
        "print(\"r square score: %.2f\" %r2_score(y_test,predicted))"
      ],
      "execution_count": null,
      "outputs": []
    },
    {
      "cell_type": "markdown",
      "metadata": {
        "id": "unJaazXoDqol"
      },
      "source": [
        "Hyperparameyer tuning "
      ]
    },
    {
      "cell_type": "code",
      "metadata": {
        "id": "Mfmn8N-DF21R"
      },
      "source": [
        "from sklearn.linear_model import LinearRegression\n",
        "from sklearn.model_selection import GridSearchCV\n",
        "model = LinearRegression()\n",
        "param_grid = { \n",
        "            \"n_estimators\"      : [10,20,30],\n",
        "            \"max_features\"      : [\"auto\", \"sqrt\", \"log2\"],\n",
        "            \"min_samples_split\" : [2,4,8],\n",
        "            \"bootstrap\": [True, False],\n",
        "            }\n",
        "\n",
        "grid_battery = GridSearchCV(model, param_grid)\n",
        "grid_battery.fit(, targetr)\n",
        "\n",
        "\n",
        "prediction_battery = grid_battery.predict(x_test)\n",
        "forest_score_battery=grid_battery.score(x_test, y_test)\n",
        "print('The random forest params best:',grid_battery.best_params_)\n",
        "print('The random forest score:', forest_score_battery)"
      ],
      "execution_count": null,
      "outputs": []
    },
    {
      "cell_type": "markdown",
      "metadata": {
        "id": "QkVMJp2QgOoa"
      },
      "source": [
        "Classification problem : Prediction of multiclass classification feature ‘Battery Supplier’."
      ]
    },
    {
      "cell_type": "markdown",
      "metadata": {
        "id": "8m1XKAVM2biM"
      },
      "source": [
        "Applying correlation on all columns with respect to Battery Supplier"
      ]
    },
    {
      "cell_type": "code",
      "metadata": {
        "id": "yKHl7BeoWyyu"
      },
      "source": [
        "\n",
        "data_battery=pd.DataFrame(newdata.loc[:, newdata.corr()['battery_supplier'] > 0.3])\n",
        "data_battery.reset_index(inplace=True)\n",
        "data_battery.columns"
      ],
      "execution_count": null,
      "outputs": []
    },
    {
      "cell_type": "code",
      "metadata": {
        "id": "iGGm-7zog9MM"
      },
      "source": [
        "targetc=data_battery[\"battery_supplier\"]\n",
        "catagorical_features1=data_battery.drop(labels=\"battery_supplier\",axis=1)"
      ],
      "execution_count": null,
      "outputs": []
    },
    {
      "cell_type": "markdown",
      "metadata": {
        "id": "ul_3D02cs9c9"
      },
      "source": [
        "Without handling the imbalance data"
      ]
    },
    {
      "cell_type": "code",
      "metadata": {
        "id": "jWtgBLxnWnMz"
      },
      "source": [
        "from sklearn.model_selection import train_test_split\n",
        "x_train,x_test, y_train, y_test = train_test_split(catagorical_features1, targetc, test_size = 0.30, random_state=40)\n",
        "print(\"x_train \",x_train.shape)\n",
        "print(\"x_test \",x_test.shape)\n",
        "print(\"y_train \",y_train.shape)\n",
        "print(\"y_test \",y_test.shape)"
      ],
      "execution_count": null,
      "outputs": []
    },
    {
      "cell_type": "markdown",
      "metadata": {
        "id": "bFgz_fVHtOIa"
      },
      "source": [
        "Logistic regression"
      ]
    },
    {
      "cell_type": "code",
      "metadata": {
        "id": "24JxlzEcWrGp"
      },
      "source": [
        "from sklearn.linear_model import LogisticRegression\n",
        "from sklearn.metrics import confusion_matrix\n",
        "from sklearn.metrics import accuracy_score\n",
        "from sklearn.metrics import classification_report\n",
        "model_lr = LogisticRegression(random_state=5)\n",
        "model_lr.fit(x_train, y_train)\n",
        "y_pred = model_lr.predict(x_test)\n",
        "accuracy=accuracy_score(y_test,y_pred)\n",
        "print(\"Accuracy\",accuracy)\n",
        "from sklearn.metrics import confusion_matrix\n",
        "cm =confusion_matrix(y_test, y_pred)\n",
        "print(\"Confusion_matrix\",cm)\n",
        "pred_svm = model_lr.predict(x_test)\n",
        "print(\"Accuracy Logistic Regression %s\" % accuracy_score(pred_svm,y_test))\n",
        "print(classification_report(y_test,pred_svm))\n",
        "\n",
        "\n",
        "\n"
      ],
      "execution_count": null,
      "outputs": []
    },
    {
      "cell_type": "markdown",
      "metadata": {
        "id": "ytVkZHzCtT8h"
      },
      "source": [
        "Support Vector Machine"
      ]
    },
    {
      "cell_type": "code",
      "metadata": {
        "id": "DWX4zbOQWXIU"
      },
      "source": [
        "from sklearn.svm import SVC\n",
        "regressor = SVC(kernel='rbf', C=1e3, gamma = 0.5)\n",
        "regressor.fit(x_train, y_train)\n",
        "y_pred = regressor.predict(x_test)\n",
        "accuracy=accuracy_score(y_test,y_pred)\n",
        "\n",
        "print(\"Accuracy\",accuracy)\n",
        "from sklearn.metrics import confusion_matrix\n",
        "cm =confusion_matrix(y_test, y_pred)\n",
        "print(\"Confusion_matrix\",cm)\n",
        "pred_svm = regressor.predict(x_test)\n",
        "print(\"Accuracy SVC %s\" % accuracy_score(pred_svm,y_test))\n",
        "print(classification_report(y_test,pred_svm))\n",
        "#([[TP, FP],\n",
        "#  [FN, TN]]"
      ],
      "execution_count": null,
      "outputs": []
    },
    {
      "cell_type": "markdown",
      "metadata": {
        "id": "5nJv9hJSjqDA"
      },
      "source": [
        "Applying SMOTE for oversampling in classification and PCA"
      ]
    },
    {
      "cell_type": "code",
      "metadata": {
        "id": "SoJeDXRIiYyh"
      },
      "source": [
        "from sklearn.decomposition import PCA\n",
        "pca = PCA(n_components=2)\n",
        "principalComponents = pca.fit_transform(catagorical_features1)"
      ],
      "execution_count": null,
      "outputs": []
    },
    {
      "cell_type": "code",
      "metadata": {
        "id": "OJeTbZoVwZjh"
      },
      "source": [
        "sns.countplot(targetc)\n",
        "plt.title(\"Battery_supplier imbalance\")"
      ],
      "execution_count": null,
      "outputs": []
    },
    {
      "cell_type": "code",
      "metadata": {
        "id": "CXL_SwFXW5iA"
      },
      "source": [
        "\n",
        "from imblearn.over_sampling import SMOTE\n",
        "from collections import Counter\n",
        "X_sm, y_sm = SMOTE().fit_resample(catagorical_features1,targetc)\n",
        "print(sorted(Counter(y_sm).items()))"
      ],
      "execution_count": null,
      "outputs": []
    },
    {
      "cell_type": "code",
      "metadata": {
        "id": "B4CfcNOxwsxc"
      },
      "source": [
        "sns.countplot(y_sm)\n",
        "plt.title(\"Data Balanced\")\n",
        "plt.xlabel('Battery_supplier')"
      ],
      "execution_count": null,
      "outputs": []
    },
    {
      "cell_type": "markdown",
      "metadata": {
        "id": "YQQmKn8rgfXC"
      },
      "source": [
        "splitting catagorical features into train or test\n",
        "\n",
        "\n"
      ]
    },
    {
      "cell_type": "code",
      "metadata": {
        "id": "0T5Yj6phgeXq"
      },
      "source": [
        "from sklearn.model_selection import train_test_split\n",
        "x_train,x_test, y_train, y_test = train_test_split(X_sm, y_sm, test_size = 0.30, random_state=40)\n",
        "print(\"x_train \",x_train.shape)\n",
        "print(\"x_test \",x_test.shape)\n",
        "print(\"y_train \",y_train.shape)\n",
        "print(\"y_test \",y_test.shape)"
      ],
      "execution_count": null,
      "outputs": []
    },
    {
      "cell_type": "markdown",
      "metadata": {
        "id": "2BEX2TD6oqEQ"
      },
      "source": [
        "Logistic regression"
      ]
    },
    {
      "cell_type": "code",
      "metadata": {
        "id": "7QDijP4aopRf"
      },
      "source": [
        "from sklearn.linear_model import LogisticRegression\n",
        "from sklearn.metrics import confusion_matrix\n",
        "from sklearn.metrics import accuracy_score\n",
        "model_lr1 = LogisticRegression(random_state=5)\n",
        "model_lr1.fit(x_train, y_train)\n",
        "y_pred = model_lr1.predict(x_test)\n",
        "accuracy=accuracy_score(y_test,y_pred)\n",
        "print(\"Accuracy\",accuracy)\n",
        "from sklearn.metrics import confusion_matrix\n",
        "cm =confusion_matrix(y_test, y_pred)\n",
        "print(\"Confusion_matrix\",cm)\n",
        "pred_svm = model_lr1.predict(x_test)\n",
        "print(\"Accuracy Logistic Regression %s\" % accuracy_score(pred_svm,y_test))\n",
        "print(classification_report(y_test,pred_svm))\n",
        "\n",
        "\n",
        "\n",
        "\n",
        "\n"
      ],
      "execution_count": null,
      "outputs": []
    },
    {
      "cell_type": "markdown",
      "metadata": {
        "id": "EiDsVyybpn4u"
      },
      "source": [
        "Support Vector Machine"
      ]
    },
    {
      "cell_type": "code",
      "metadata": {
        "colab": {
          "background_save": true
        },
        "id": "yuTC9oEQLnLV"
      },
      "source": [
        "from sklearn.svm import SVC\n",
        "regressor1 = SVC(kernel='rbf', C=1e3, gamma = 0.5)\n",
        "regressor1.fit(x_train, y_train)\n",
        "y_pred = regressor1.predict(x_test)\n",
        "accuracy=accuracy_score(y_test,y_pred)\n",
        "#accuracy_score(y_test,y_pred)\n",
        "#y_pred = model.predict(x_test)\n",
        "#y_pred=pd.DataFrame(y_pred)\n",
        "print(\"Accuracy\",accuracy)\n",
        "from sklearn.metrics import confusion_matrix\n",
        "cm =confusion_matrix(y_test, y_pred)\n",
        "print(\"Confusion_matrix\",cm)\n",
        "pred_svm = regressor1.predict(x_test)\n",
        "print(\"Accuracy SVC %s\" % accuracy_score(pred_svm,y_test))\n",
        "print(classification_report(y_test,pred_svm))\n"
      ],
      "execution_count": null,
      "outputs": []
    },
    {
      "cell_type": "markdown",
      "metadata": {
        "id": "t1ajyKcQEo-n"
      },
      "source": [
        "Hyperparameter tuning"
      ]
    },
    {
      "cell_type": "code",
      "metadata": {
        "id": "zMTLqcvbhnG0"
      },
      "source": [
        "from sklearn.model_selection import GridSearchCV\n",
        "from sklearn.linear_model import LogisticRegression\n",
        "model = LogisticRegression()\n",
        "\n",
        "model_params = { \n",
        "    'logistic_regression' : {\n",
        "        'model': LogisticRegression(solver='liblinear',multi_class='auto'),\n",
        "        'params': {\n",
        "            'C': [1,5,10]\n",
        "        }\n",
        "    }\n",
        "}\n",
        "\n",
        "grid_battery = GridSearchCV(model, model_params)\n",
        "grid_battery.fit(X_train, y_train)\n",
        "\n",
        "prediction_battery = grid_battery.predict(X_test)\n",
        "forest_score_battery=grid_battery.score(X_test, y_test)\n",
        "print('The random forest params best:',grid_battery.best_params_)\n",
        "print('The random forest score:', forest_score_battery)"
      ],
      "execution_count": null,
      "outputs": []
    },
    {
      "cell_type": "code",
      "metadata": {
        "id": "4raP7rSHmkIO"
      },
      "source": [
        "from sklearn.model_selection import GridSearchCV\n",
        "from sklearn.svm import SVC\n",
        "clf = GridSearchCV(svm.SVC(gamma='auto'), {\n",
        "    'C': [1,10,20],\n",
        "    'kernel': ['rbf','linear']\n",
        "}, cv=5, return_train_score=False)\n",
        "clf.fit(y_test, y_pred)\n",
        "clf.cv_results_"
      ],
      "execution_count": null,
      "outputs": []
    },
    {
      "cell_type": "markdown",
      "metadata": {
        "id": "6nK9vH4Lwxkg"
      },
      "source": [
        "# Unsupervised Problem: Anomaly Detection on Engine type using K-means Clustering Algorithm"
      ]
    },
    {
      "cell_type": "markdown",
      "metadata": {
        "id": "NORKmUeg4cZX"
      },
      "source": [
        "Applying correlation on all columns with respect to Engine type"
      ]
    },
    {
      "cell_type": "code",
      "metadata": {
        "colab": {
          "base_uri": "https://localhost:8080/"
        },
        "id": "VIW2MGlq0ASl",
        "outputId": "bb9d6957-ab30-4854-9788-088788546a99"
      },
      "source": [
        "\n",
        "data_vehicle=pd.DataFrame(newdata.loc[:, newdata.corr()['engine_type'] > 0.20])\n",
        "data_vehicle.reset_index(inplace=True)\n",
        "data_vehicle.columns"
      ],
      "execution_count": 111,
      "outputs": [
        {
          "output_type": "execute_result",
          "data": {
            "text/plain": [
              "Index(['index', 'hybrid_mode_distance', 'total_distance.1', 'operation_time',\n",
              "       'operation_distance', 'total_distance', 'idle_time', 'measure41',\n",
              "       'hybrid_mode_time', 'charge_mode_time', 'diesel_mode_time',\n",
              "       'total_time', 'vehicle_id', 'sender', 'battery_generation',\n",
              "       'emission_level', 'mounted_battery_generation', 'engine_type',\n",
              "       'battery_supplier', 'measure_row', 'measure_1',\n",
              "       'current_yearly_mileage', 'vehicle_mrk_type'],\n",
              "      dtype='object')"
            ]
          },
          "metadata": {
            "tags": []
          },
          "execution_count": 111
        }
      ]
    },
    {
      "cell_type": "code",
      "metadata": {
        "colab": {
          "base_uri": "https://localhost:8080/"
        },
        "id": "0Y8ul22TEJOz",
        "outputId": "0cd728fa-245c-4bf1-ce7b-4271220a5e96"
      },
      "source": [
        "\r\n",
        "data_vehicle=pd.DataFrame(newdata.loc[:, newdata.corr()['operation_time'] > 0.20])\r\n",
        "data_vehicle.reset_index(inplace=True)\r\n",
        "data_vehicle.columns"
      ],
      "execution_count": 22,
      "outputs": [
        {
          "output_type": "execute_result",
          "data": {
            "text/plain": [
              "Index(['index', 'hybrid_mode_distance', 'total_distance.1', 'operation_time',\n",
              "       'operation_distance', 'total_distance', 'idle_time', 'measure41',\n",
              "       'hybrid_mode_time', 'charge_mode_time', 'diesel_mode_time',\n",
              "       'total_time', 'sender', 'battery_generation', 'emission_level',\n",
              "       'mounted_battery_generation', 'engine_type', 'battery_supplier',\n",
              "       'measure_row', 'current_yearly_mileage'],\n",
              "      dtype='object')"
            ]
          },
          "metadata": {
            "tags": []
          },
          "execution_count": 22
        }
      ]
    },
    {
      "cell_type": "code",
      "metadata": {
        "id": "O2tdwV_l12_R"
      },
      "source": [
        "y=data_vehicle[['operation_time','operation_distance']]\n",
        "x =data_vehicle.loc[:,['index', 'hybrid_mode_distance', 'total_distance.1', 'operation_time',\n",
        "       'operation_distance', 'total_distance', 'idle_time', 'measure41',\n",
        "       'hybrid_mode_time', 'charge_mode_time', 'diesel_mode_time',\n",
        "       'total_time', 'sender', 'battery_generation', 'emission_level',\n",
        "       'mounted_battery_generation', 'engine_type', 'battery_supplier',\n",
        "       'measure_row', 'current_yearly_mileage']]"
      ],
      "execution_count": 23,
      "outputs": []
    },
    {
      "cell_type": "code",
      "metadata": {
        "id": "TuvCKCCal64W"
      },
      "source": [
        "#y=newdata.iloc[:,[13,4]]"
      ],
      "execution_count": null,
      "outputs": []
    },
    {
      "cell_type": "code",
      "metadata": {
        "id": "9l6CAs5HwzKY"
      },
      "source": [
        "#X = newdata.iloc[:, [14,13,12,10,9,0,1,2,3,4,5]].values\n",
        "X=newdata[['vehicle_id','operation_time', 'operation_distance']]\n",
        "#X = newdata.iloc[:, [13,12,10,9,0,1,2,3,4,5]].values\n",
        "#Y=newdata.iloc[:,14]"
      ],
      "execution_count": 24,
      "outputs": []
    },
    {
      "cell_type": "code",
      "metadata": {
        "id": "W_LlqhW3U9sm"
      },
      "source": [
        "from sklearn.decomposition import PCA\n",
        "pca = PCA(n_components=2)\n",
        "principalComponents = pca.fit_transform(x,y)"
      ],
      "execution_count": null,
      "outputs": []
    },
    {
      "cell_type": "code",
      "metadata": {
        "colab": {
          "base_uri": "https://localhost:8080/",
          "height": 313
        },
        "id": "QhsPFtCY5e8X",
        "outputId": "4ca3bb8a-4e3d-463c-871d-e1b6e4d2c14b"
      },
      "source": [
        "import numpy as np\n",
        "import matplotlib.pyplot as plt\n",
        "from sklearn.cluster import KMeans\n",
        "from scipy.spatial.distance import cdist\n",
        "\n",
        "data = principalComponents\n",
        "# kmeans model k = 3\n",
        "km = KMeans(n_clusters = 3)\n",
        "clusters=km.fit_predict(data)\n",
        "# plotting\n",
        "plt.scatter(*zip(*data),c=clusters,marker =\"*\")\n",
        "plt.title('K-means Clustering')\n",
        "plt.xlabel('Engine_type')\n",
        "plt.ylabel('Features')"
      ],
      "execution_count": 67,
      "outputs": [
        {
          "output_type": "execute_result",
          "data": {
            "text/plain": [
              "Text(0, 0.5, 'Features')"
            ]
          },
          "metadata": {
            "tags": []
          },
          "execution_count": 67
        },
        {
          "output_type": "display_data",
          "data": {
            "image/png": "[encoded data removed]",
            "text/plain": [
              "<Figure size 432x288 with 1 Axes>"
            ]
          },
          "metadata": {
            "tags": [],
            "needs_background": "light"
          }
        }
      ]
    },
    {
      "cell_type": "code",
      "metadata": {
        "id": "7yTRQtXD5ff2"
      },
      "source": [
        "# finding centers of clusters\n",
        "centroids = km.cluster_centers_\n",
        "\n",
        "points = np.empty((0,len(data[0])), float)\n",
        "\n",
        "distances = np.empty((0,len(data[0])), float)\n",
        "\n",
        "for i, center_elem in enumerate(centroids):\n",
        "  \n",
        "    distances = np.append(distances, cdist([center_elem],data[clusters == i], 'euclidean')) \n",
        "    points = np.append(points, data[clusters == i], axis=0)"
      ],
      "execution_count": null,
      "outputs": []
    },
    {
      "cell_type": "code",
      "metadata": {
        "id": "B_Cofu7dQoTE"
      },
      "source": [
        "km.cluster_centers_"
      ],
      "execution_count": null,
      "outputs": []
    },
    {
      "cell_type": "code",
      "metadata": {
        "id": "J75EbWhURcZY"
      },
      "source": [
        "print(\"Inertia is\", km.inertia_)"
      ],
      "execution_count": null,
      "outputs": []
    },
    {
      "cell_type": "code",
      "metadata": {
        "id": "AY1o_9ggHiUq"
      },
      "source": [
        "#99,80,50\n",
        "percentile = 80\n",
        "\n",
        "outliers = points[np.where(distances > np.percentile(distances, percentile))]"
      ],
      "execution_count": null,
      "outputs": []
    },
    {
      "cell_type": "code",
      "metadata": {
        "id": "lXTtXHKM5fqr"
      },
      "source": [
        "\n",
        "plt.figure(figsize=(20, 10))\n",
        "\n",
        "\n",
        "plt.scatter(*zip(*data),c=clusters,marker = 'x',s=150,label=\"Clusters\") \n",
        "\n",
        "plt.scatter(*zip(*outliers),marker='X',facecolor='None',edgecolor='r',s=15,label=\"Outliers\");\n",
        "\n",
        "plt.scatter(*zip(*centroids),marker='o',facecolor='b',edgecolor='b',s=200,label=\"Centroid\");\n",
        "plt.legend()\n",
        "plt.title('K-means Clustering Anomaly Detection with ['percentile'] Threshold')\n",
        "plt.xlabel('Vehicle_id')\n",
        "plt.ylabel('Features')"
      ],
      "execution_count": null,
      "outputs": []
    },
    {
      "cell_type": "code",
      "metadata": {
        "id": "oa0igygNfhvT"
      },
      "source": [
        "sse = []\n",
        "k_rng = range(1,10)\n",
        "for k in k_rng:\n",
        "    km = KMeans(n_clusters=k)\n",
        "    km.fit(x)\n",
        "    sse.append(km.inertia_)\n",
        "plt.figure(figsize=(30, 10))\n",
        "\n",
        "plt.xlabel('K')\n",
        "plt.ylabel('Sum of squared error')\n",
        "plt.plot(k_rng,sse)"
      ],
      "execution_count": null,
      "outputs": []
    },
    {
      "cell_type": "code",
      "metadata": {
        "id": "tg6F_gbMunyb"
      },
      "source": [
        "from sklearn.ensemble import IsolationForest\r\n",
        "rs=np.random.RandomState(0)\r\n",
        "clf = IsolationForest(max_samples=100,random_state=rs, contamination=.1) \r\n",
        "clf.fit(X)\r\n",
        "if_scores = clf.decision_function(X)\r\n",
        "if_anomalies=clf.predict(X)\r\n",
        "if_anomalies=pd.Series(if_anomalies).replace([-1,1],[1,0])\r\n",
        "#if_anomalies=X [if_anomalies==1];"
      ],
      "execution_count": null,
      "outputs": []
    },
    {
      "cell_type": "code",
      "metadata": {
        "id": "3lQXvdwEysFM"
      },
      "source": [
        "plt.figure(figsize=(12,8))\r\n",
        "plt.hist(if_scores);\r\n",
        "plt.title(‘Histogram of Avg Anomaly Scores: Lower => More Anomalous’);"
      ],
      "execution_count": null,
      "outputs": []
    },
    {
      "cell_type": "code",
      "metadata": {
        "id": "Znw88k33y5TH"
      },
      "source": [
        "cmap=np.array(['white','red'])\r\n",
        "plt.scatter(df.iloc[:,1],df.iloc[:,2],c='white',s=20,edgecolor='k')\r\n",
        "plt.scatter(if_anomalies.iloc[:,0],if_anomalies.iloc[:,1],c='red')\r\n",
        "plt.xlabel('Engine Typee')\r\n",
        "plt.ylabel('Spend_Score')\r\n",
        "plt.title('Isolation Forests - Anomalies')"
      ],
      "execution_count": null,
      "outputs": []
    },
    {
      "cell_type": "code",
      "metadata": {
        "colab": {
          "base_uri": "https://localhost:8080/"
        },
        "id": "dOOCCOBPuzKT",
        "outputId": "7ca699ea-129d-44e6-f743-99cfb3107182"
      },
      "source": [
        "data_vehicle=pd.DataFrame(newdata.loc[:, newdata.corr()['engine_type'] >= 0])\r\n",
        "data_vehicle.reset_index(inplace=True)\r\n",
        "data_vehicle.columns"
      ],
      "execution_count": 142,
      "outputs": [
        {
          "output_type": "execute_result",
          "data": {
            "text/plain": [
              "Index(['index', 'hybrid_mode_distance', 'diesel_mode_distance',\n",
              "       'total_distance.1', 'operation_time', 'operation_distance',\n",
              "       'total_distance', 'idle_time', 'measure41', 'measure42',\n",
              "       'hybrid_mode_time', 'charge_mode_time', 'diesel_mode_time',\n",
              "       'total_time', 'vehicle_id', 'sender', 'battery_version',\n",
              "       'battery_generation', 'emission_level', 'mounted_battery_generation',\n",
              "       'engine_type', 'is_bttery_changed', 'battery_supplier', 'measure_row',\n",
              "       'measure_1', 'current_yearly_mileage', 'vehicle_mrk_type', 'fleet_id'],\n",
              "      dtype='object')"
            ]
          },
          "metadata": {
            "tags": []
          },
          "execution_count": 142
        }
      ]
    },
    {
      "cell_type": "code",
      "metadata": {
        "id": "zaWf91MSeLUs"
      },
      "source": [
        "##Task 3(b)"
      ],
      "execution_count": 30,
      "outputs": []
    },
    {
      "cell_type": "code",
      "metadata": {
        "colab": {
          "base_uri": "https://localhost:8080/"
        },
        "id": "xdqYLyxCd9PI",
        "outputId": "9082adff-59d5-4a0e-eb00-6b4c7d876bfb"
      },
      "source": [
        "data_vehicle=pd.DataFrame(newdata.loc[:, newdata.corr()['operation_time'] > 0.20])\r\n",
        "data_vehicle.reset_index(inplace=True)\r\n",
        "data_vehicle.columns"
      ],
      "execution_count": 40,
      "outputs": [
        {
          "output_type": "execute_result",
          "data": {
            "text/plain": [
              "Index(['index', 'hybrid_mode_distance', 'total_distance.1', 'operation_time',\n",
              "       'operation_distance', 'total_distance', 'idle_time', 'measure41',\n",
              "       'hybrid_mode_time', 'charge_mode_time', 'diesel_mode_time',\n",
              "       'total_time', 'sender', 'battery_generation', 'emission_level',\n",
              "       'mounted_battery_generation', 'engine_type', 'battery_supplier',\n",
              "       'measure_row', 'current_yearly_mileage'],\n",
              "      dtype='object')"
            ]
          },
          "metadata": {
            "tags": []
          },
          "execution_count": 40
        }
      ]
    },
    {
      "cell_type": "code",
      "metadata": {
        "id": "XVVglPX6dytQ"
      },
      "source": [
        "y=data_vehicle[['operation_time','operation_distance']]\r\n",
        "x =data_vehicle.loc[:,['index', 'hybrid_mode_distance', 'total_distance.1', 'operation_time',\r\n",
        "       'operation_distance', 'total_distance', 'idle_time', 'measure41',\r\n",
        "       'hybrid_mode_time', 'charge_mode_time', 'diesel_mode_time',\r\n",
        "       'total_time', 'sender', 'battery_generation', 'emission_level',\r\n",
        "       'mounted_battery_generation', 'engine_type', 'battery_supplier',\r\n",
        "       'measure_row', 'current_yearly_mileage']]"
      ],
      "execution_count": 41,
      "outputs": []
    },
    {
      "cell_type": "code",
      "metadata": {
        "id": "riBEokUTdpD0"
      },
      "source": [
        "#X = newdata.iloc[:, [14,13,12,10,9,0,1,2,3,4,5]].values\r\n",
        "X=newdata[['vehicle_id','operation_time', 'operation_distance']]\r\n",
        "#X = newdata.iloc[:, [13,12,10,9,0,1,2,3,4,5]].values\r\n",
        "#Y=newdata.iloc[:,14]"
      ],
      "execution_count": 69,
      "outputs": []
    },
    {
      "cell_type": "code",
      "metadata": {
        "colab": {
          "base_uri": "https://localhost:8080/"
        },
        "id": "rmKVhpmSrfGU",
        "outputId": "8c076faa-6c5e-461a-cce9-8dd8b4cdaed9"
      },
      "source": [
        "print(X)"
      ],
      "execution_count": 43,
      "outputs": [
        {
          "output_type": "stream",
          "text": [
            "        vehicle_id  operation_time  operation_distance\n",
            "19806           20        2176.729           37962.639\n",
            "19807           20        2216.488           39176.579\n",
            "19808           20         319.862           10634.430\n",
            "19809           20         556.737           16031.620\n",
            "19810           20        2216.488           39176.579\n",
            "...            ...             ...                 ...\n",
            "861908        4025           4.926               7.640\n",
            "861909        4025       13681.235          321259.403\n",
            "861911        4027           4.520              11.360\n",
            "861913        4029          15.085              17.890\n",
            "861914        4030           0.000               0.000\n",
            "\n",
            "[40451 rows x 3 columns]\n"
          ],
          "name": "stdout"
        }
      ]
    },
    {
      "cell_type": "code",
      "metadata": {
        "colab": {
          "base_uri": "https://localhost:8080/"
        },
        "id": "B-fep115l3q9",
        "outputId": "319f9ab0-faed-4908-cb48-3764e0476c65"
      },
      "source": [
        "from sklearn.ensemble import IsolationForest\r\n",
        "max_features=1.0\r\n",
        "n_estimators=50\r\n",
        "max_samples='auto'\r\n",
        "contamination=float(0.2)\r\n",
        "forest_model=IsolationForest(max_features = max_features, n_estimators=n_estimators, max_samples=max_samples, contamination=contamination)\r\n",
        "forest_model.fit(X[['operation_time','operation_distance']])\r\n"
      ],
      "execution_count": 70,
      "outputs": [
        {
          "output_type": "execute_result",
          "data": {
            "text/plain": [
              "IsolationForest(behaviour='deprecated', bootstrap=False, contamination=0.2,\n",
              "                max_features=1.0, max_samples='auto', n_estimators=50,\n",
              "                n_jobs=None, random_state=None, verbose=0, warm_start=False)"
            ]
          },
          "metadata": {
            "tags": []
          },
          "execution_count": 70
        }
      ]
    },
    {
      "cell_type": "code",
      "metadata": {
        "colab": {
          "base_uri": "https://localhost:8080/",
          "height": 411
        },
        "id": "jPya4VDPr5hY",
        "outputId": "76a85722-8cc3-4758-a89f-1dbe678c4a06"
      },
      "source": [
        "X['scores']=forest_model.decision_function(X[['operation_time','operation_distance']])\r\n",
        "X['anomaly_Value']=forest_model.predict(X[['operation_time', 'operation_distance']])\r\n",
        "\r\n",
        "X.head(5)"
      ],
      "execution_count": 97,
      "outputs": [
        {
          "output_type": "stream",
          "text": [
            "/usr/local/lib/python3.7/dist-packages/ipykernel_launcher.py:1: SettingWithCopyWarning: \n",
            "A value is trying to be set on a copy of a slice from a DataFrame.\n",
            "Try using .loc[row_indexer,col_indexer] = value instead\n",
            "\n",
            "See the caveats in the documentation: https://pandas.pydata.org/pandas-docs/stable/user_guide/indexing.html#returning-a-view-versus-a-copy\n",
            "  \"\"\"Entry point for launching an IPython kernel.\n",
            "/usr/local/lib/python3.7/dist-packages/ipykernel_launcher.py:2: SettingWithCopyWarning: \n",
            "A value is trying to be set on a copy of a slice from a DataFrame.\n",
            "Try using .loc[row_indexer,col_indexer] = value instead\n",
            "\n",
            "See the caveats in the documentation: https://pandas.pydata.org/pandas-docs/stable/user_guide/indexing.html#returning-a-view-versus-a-copy\n",
            "  \n"
          ],
          "name": "stderr"
        },
        {
          "output_type": "execute_result",
          "data": {
            "text/html": [
              "<div>\n",
              "<style scoped>\n",
              "    .dataframe tbody tr th:only-of-type {\n",
              "        vertical-align: middle;\n",
              "    }\n",
              "\n",
              "    .dataframe tbody tr th {\n",
              "        vertical-align: top;\n",
              "    }\n",
              "\n",
              "    .dataframe thead th {\n",
              "        text-align: right;\n",
              "    }\n",
              "</style>\n",
              "<table border=\"1\" class=\"dataframe\">\n",
              "  <thead>\n",
              "    <tr style=\"text-align: right;\">\n",
              "      <th></th>\n",
              "      <th>vehicle_id</th>\n",
              "      <th>operation_time</th>\n",
              "      <th>operation_distance</th>\n",
              "      <th>scores</th>\n",
              "      <th>anomaly_Value</th>\n",
              "    </tr>\n",
              "  </thead>\n",
              "  <tbody>\n",
              "    <tr>\n",
              "      <th>19806</th>\n",
              "      <td>20</td>\n",
              "      <td>2176.729</td>\n",
              "      <td>37962.639</td>\n",
              "      <td>0.026824</td>\n",
              "      <td>1</td>\n",
              "    </tr>\n",
              "    <tr>\n",
              "      <th>19807</th>\n",
              "      <td>20</td>\n",
              "      <td>2216.488</td>\n",
              "      <td>39176.579</td>\n",
              "      <td>0.029482</td>\n",
              "      <td>1</td>\n",
              "    </tr>\n",
              "    <tr>\n",
              "      <th>19808</th>\n",
              "      <td>20</td>\n",
              "      <td>319.862</td>\n",
              "      <td>10634.430</td>\n",
              "      <td>-0.014339</td>\n",
              "      <td>-1</td>\n",
              "    </tr>\n",
              "    <tr>\n",
              "      <th>19809</th>\n",
              "      <td>20</td>\n",
              "      <td>556.737</td>\n",
              "      <td>16031.620</td>\n",
              "      <td>-0.003452</td>\n",
              "      <td>-1</td>\n",
              "    </tr>\n",
              "    <tr>\n",
              "      <th>19810</th>\n",
              "      <td>20</td>\n",
              "      <td>2216.488</td>\n",
              "      <td>39176.579</td>\n",
              "      <td>0.029482</td>\n",
              "      <td>1</td>\n",
              "    </tr>\n",
              "  </tbody>\n",
              "</table>\n",
              "</div>"
            ],
            "text/plain": [
              "       vehicle_id  operation_time  operation_distance    scores  anomaly_Value\n",
              "19806          20        2176.729           37962.639  0.026824              1\n",
              "19807          20        2216.488           39176.579  0.029482              1\n",
              "19808          20         319.862           10634.430 -0.014339             -1\n",
              "19809          20         556.737           16031.620 -0.003452             -1\n",
              "19810          20        2216.488           39176.579  0.029482              1"
            ]
          },
          "metadata": {
            "tags": []
          },
          "execution_count": 97
        }
      ]
    },
    {
      "cell_type": "code",
      "metadata": {
        "colab": {
          "base_uri": "https://localhost:8080/",
          "height": 281
        },
        "id": "bzBf0zpAp_0k",
        "outputId": "28bac05e-b358-498d-9045-f5e85db0bffd"
      },
      "source": [
        "from sklearn.decomposition import PCA\r\n",
        "X_Pca = PCA(2)\r\n",
        "X_Pca.fit(X)\r\n",
        "df2=pd.DataFrame(pca.transform(X))\r\n",
        "nparry = np.array(df2)\r\n",
        "plt.title(\"Isolation Forest Anomalies\")\r\n",
        "plt.contourf( nparry, cmap=plt.cm.Blues_r)\r\n",
        "plt1 = plt.scatter(df2[0], df2[1], c='blue',\r\n",
        "                 s=25,label=\"Normal\",cmap=\"jet\")\r\n",
        "plt1 =plt.scatter(df2.iloc[outlier_index,0],df2.iloc[outlier_index,1], c='red',s=25,label=\" Outliers\")\r\n",
        "plt.legend(loc=\"upper right\")\r\n",
        "plt.show()"
      ],
      "execution_count": 90,
      "outputs": [
        {
          "output_type": "display_data",
          "data": {
            "image/png": "[encoded data removed]",
            "text/plain": [
              "<Figure size 432x288 with 1 Axes>"
            ]
          },
          "metadata": {
            "tags": [],
            "needs_background": "light"
          }
        }
      ]
    },
    {
      "cell_type": "code",
      "metadata": {
        "colab": {
          "base_uri": "https://localhost:8080/"
        },
        "id": "an5BBQRqrxPZ",
        "outputId": "769e229f-e49f-486c-bd05-b4aa2926cd4f"
      },
      "source": [
        "Outlier = len(X[X['operation_time'] < ] )\r\n",
        "Outlier"
      ],
      "execution_count": 98,
      "outputs": [
        {
          "output_type": "execute_result",
          "data": {
            "text/plain": [
              "36"
            ]
          },
          "metadata": {
            "tags": []
          },
          "execution_count": 98
        }
      ]
    },
    {
      "cell_type": "code",
      "metadata": {
        "colab": {
          "base_uri": "https://localhost:8080/"
        },
        "id": "h4DJDqTdodsD",
        "outputId": "b19ecb61-6eb5-4a5f-b83f-36ca50e517fb"
      },
      "source": [
        "from sklearn.ensemble import IsolationForest\r\n",
        "\r\n",
        "clf=IsolationForest(n_estimators=100, max_samples='auto', contamination=float(.12), \r\n",
        "                        max_features=1.0, bootstrap=False, n_jobs=-1, random_state=42, verbose=0)\r\n",
        "clf.fit(X)"
      ],
      "execution_count": 60,
      "outputs": [
        {
          "output_type": "execute_result",
          "data": {
            "text/plain": [
              "IsolationForest(behaviour='deprecated', bootstrap=False, contamination=0.12,\n",
              "                max_features=1.0, max_samples='auto', n_estimators=100,\n",
              "                n_jobs=-1, random_state=42, verbose=0, warm_start=False)"
            ]
          },
          "metadata": {
            "tags": []
          },
          "execution_count": 60
        }
      ]
    },
    {
      "cell_type": "code",
      "metadata": {
        "colab": {
          "base_uri": "https://localhost:8080/"
        },
        "id": "PGi_A8WEnHWI",
        "outputId": "84571a82-ef37-4e76-9745-df833aaf10a3"
      },
      "source": [
        "pred = clf.predict(X)\r\n",
        "data_vehicle['anomaly']=pred\r\n",
        "outliers=data_vehicle.loc[data_vehicle['anomaly']==-1]\r\n",
        "#print(outliers)\r\n",
        "outlier_index=list(outliers.index)\r\n",
        "#print(outlier_index)\r\n",
        "#Find the number of anomalies and normal points here points classified -1 are anomalous\r\n",
        "print(data_vehicle['anomaly'].value_counts())\r\n",
        "print(data_vehicle.shape)"
      ],
      "execution_count": 64,
      "outputs": [
        {
          "output_type": "stream",
          "text": [
            " 1    35599\n",
            "-1     4852\n",
            "Name: anomaly, dtype: int64\n",
            "(40451, 21)\n"
          ],
          "name": "stdout"
        }
      ]
    },
    {
      "cell_type": "code",
      "metadata": {
        "colab": {
          "base_uri": "https://localhost:8080/",
          "height": 265
        },
        "id": "tpyY-O5Cn2QY",
        "outputId": "ffd9135e-b7f8-4731-a08a-24703ffead44"
      },
      "source": [
        "import matplotlib.pyplot as plt\r\n",
        "from sklearn.decomposition import PCA\r\n",
        "from sklearn.preprocessing import StandardScaler\r\n",
        "from mpl_toolkits.mplot3d import Axes3D\r\n",
        "\r\n",
        "pca = PCA(n_components=3)  # Reduce to k=3 dimensions\r\n",
        "scaler = StandardScaler()\r\n",
        "#normalize the metrics\r\n",
        "X = scaler.fit_transform(data_vehicle)\r\n",
        "X_reduce = pca.fit_transform(X)\r\n",
        "fig = plt.figure()\r\n",
        "ax = fig.add_subplot(111, projection='3d')\r\n",
        "ax.set_zlabel(\"x_composite_3\")\r\n",
        "\r\n",
        "ax.scatter(X_reduce[:, 0], X_reduce[:, 1], zs=X_reduce[:, 2], s=4, lw=1, label=\"inliers\",cmap=\"jet\")\r\n",
        "# Plot x's for the ground truth outliers\r\n",
        "#print(len(outlier_index))\r\n",
        "print(X_reduce.shape)\r\n",
        "ax.scatter(X_reduce[outlier_index,0],X_reduce[outlier_index,1], X_reduce[outlier_index,2],\r\n",
        "          lw=2, s=60, marker=\"x\", c=\"red\", label=\"outliers\")\r\n",
        "ax.legend()\r\n",
        "plt.show()"
      ],
      "execution_count": 66,
      "outputs": [
        {
          "output_type": "stream",
          "text": [
            "(40451, 3)\n"
          ],
          "name": "stdout"
        },
        {
          "output_type": "display_data",
          "data": {
            "image/png": "[encoded data removed]",
            "text/plain": [
              "<Figure size 432x288 with 1 Axes>"
            ]
          },
          "metadata": {
            "tags": [],
            "needs_background": "light"
          }
        }
      ]
    },
    {
      "cell_type": "code",
      "metadata": {
        "id": "IV2_KjE4Dsx4"
      },
      "source": [
        "plt.figure(figsize=(12,8))\r\n",
        "plt.hist(X);\r\n",
        "plt.title('Histogram of Avg Anomaly Scores: Lower => More Anomalous')"
      ],
      "execution_count": null,
      "outputs": []
    },
    {
      "cell_type": "code",
      "metadata": {
        "id": "JJIvgmg1gXdQ"
      },
      "source": [
        "import matplotlib.pyplot as plt\r\n",
        "from mpl_toolkits.mplot3d import Axes3D\r\n",
        "import numpy as np\r\n",
        "fig = plt.figure(figsize=(6, 6))\r\n",
        "ax = fig.add_subplot(111, projection='3d')\r\n",
        "cmap=np.array(['white','red'])\r\n",
        "ax.scatter(X.loc[:,'vehicle_id'],X.loc[:,'operation_time'], X.loc[:,'operation_distance'],c='white',s=20,edgecolor='k')\r\n",
        "ax.scatter(if_anomalies.loc[:,'vehicle_id'],if_anomalies.loc[:,'operation_time'], if_anomalies.loc[:,'operation_distance'],c='red')\r\n",
        "ax.xlabel('Income')\r\n",
        "ax.ylabel('Spend_Score')\r\n",
        "ax.zlabel('Spend_Score')\r\n",
        "plt.title('Isolation Forests - Anomalies')\r\n",
        "plt.show()"
      ],
      "execution_count": null,
      "outputs": []
    },
    {
      "cell_type": "code",
      "metadata": {
        "id": "czm_DeaDeb3O"
      },
      "source": [
        "import matplotlib.pyplot as plt\r\n",
        "from mpl_toolkits.mplot3d import Axes3D\r\n",
        "import numpy as np\r\n",
        "\r\n",
        "x = np.random.rand(20)\r\n",
        "y = np.random.rand(20)\r\n",
        "z = x*y\r\n",
        "\r\n",
        "fig = plt.figure(figsize=(6, 6))\r\n",
        "ax = fig.add_subplot(111, projection='3d')\r\n",
        "ax.scatter(x, y, z,\r\n",
        "           linewidths=1, alpha=.7,\r\n",
        "           edgecolor='k',\r\n",
        "           s = 200,\r\n",
        "           c=z)\r\n",
        "plt.show()"
      ],
      "execution_count": null,
      "outputs": []
    },
    {
      "cell_type": "code",
      "metadata": {
        "id": "istsqL_TvY5B"
      },
      "source": [
        "\r\n",
        "from sklearn.ensemble import IsolationForest\r\n",
        "rs=np.random.RandomState(0)\r\n",
        "clf = IsolationForest(max_samples='auto',random_state=rs, contamination=.1) \r\n",
        "clf.fit(newdata)\r\n",
        "if_scores = clf.decision_function(newdata)\r\n",
        "if_anomalies=clf.predict(newdata)\r\n",
        "if_anomalies=pd.Series(if_anomalies).replace([-1,1],[1,0])\r\n",
        "if_anomalies=data_vehicle[if_anomalies==1];"
      ],
      "execution_count": null,
      "outputs": []
    },
    {
      "cell_type": "code",
      "metadata": {
        "id": "i-De77nfvmzV"
      },
      "source": [
        "'''plt.figure(figsize=(12,8))\r\n",
        "plt.hist(if_scores);\r\n",
        "plt.title(‘Histogram of Avg Anomaly Scores: Lower => More Anomalous’);"
      ],
      "execution_count": null,
      "outputs": []
    },
    {
      "cell_type": "code",
      "metadata": {
        "id": "JZfxI0TvvrwF"
      },
      "source": [
        "'''cmap=np.array(['white','red'])\r\n",
        "plt.scatter(data_vehicle.loc[:,'vehicle_id'],data_vehicle.loc[:,'operation_time'],c='white',s=20,edgecolor='k')\r\n",
        "plt.scatter(if_anomalies.loc[:,'vehicle_id'],if_anomalies.loc[:,'operation_time'],c='red')\r\n",
        "plt.xlabel('Income')\r\n",
        "plt.ylabel('Spend_Score')\r\n",
        "plt.title('Isolation Forests - Anomalies')"
      ],
      "execution_count": null,
      "outputs": []
    }
  ]
}